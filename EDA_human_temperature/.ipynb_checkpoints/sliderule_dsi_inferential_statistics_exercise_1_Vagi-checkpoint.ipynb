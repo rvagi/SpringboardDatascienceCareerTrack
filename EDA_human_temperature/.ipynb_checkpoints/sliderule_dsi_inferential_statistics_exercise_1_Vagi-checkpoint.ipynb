{
 "cells": [
  {
   "cell_type": "markdown",
   "metadata": {},
   "source": [
    "# What is the True Normal Human Body Temperature? \n",
    "\n",
    "#### Background\n",
    "\n",
    "The mean normal body temperature was held to be 37$^{\\circ}$C or 98.6$^{\\circ}$F for more than 120 years since it was first conceptualized and reported by Carl Wunderlich in a famous 1868 book. But, is this value statistically correct?"
   ]
  },
  {
   "cell_type": "markdown",
   "metadata": {},
   "source": [
    "<h3>Exercises</h3>\n",
    "\n",
    "<p>In this exercise, you will analyze a dataset of human body temperatures and employ the concepts of hypothesis testing, confidence intervals, and statistical significance.</p>\n",
    "\n",
    "<p>Answer the following questions <b>in this notebook below and submit to your Github account</b>.</p> \n",
    "\n",
    "<ol>\n",
    "<li>  Is the distribution of body temperatures normal? \n",
    "    <ul>\n",
    "    <li> Although this is not a requirement for the Central Limit Theorem to hold (read the introduction on Wikipedia's page about the CLT carefully: https://en.wikipedia.org/wiki/Central_limit_theorem), it gives us some peace of mind that the population may also be normally distributed if we assume that this sample is representative of the population.\n",
    "    <li> Think about the way you're going to check for the normality of the distribution. Graphical methods are usually used first, but there are also other ways: https://en.wikipedia.org/wiki/Normality_test\n",
    "    </ul>\n",
    "<li>  Is the sample size large? Are the observations independent?\n",
    "    <ul>\n",
    "    <li> Remember that this is a condition for the Central Limit Theorem, and hence the statistical tests we are using, to apply.\n",
    "    </ul>\n",
    "<li>  Is the true population mean really 98.6 degrees F?\n",
    "    <ul>\n",
    "    <li> First, try a bootstrap hypothesis test.\n",
    "    <li> Now, let's try frequentist statistical testing. Would you use a one-sample or two-sample test? Why?\n",
    "    <li> In this situation, is it appropriate to use the $t$ or $z$ statistic? \n",
    "    <li> Now try using the other test. How is the result be different? Why?\n",
    "    </ul>\n",
    "<li>  Draw a small sample of size 10 from the data and repeat both frequentist tests. \n",
    "    <ul>\n",
    "    <li> Which one is the correct one to use? \n",
    "    <li> What do you notice? What does this tell you about the difference in application of the $t$ and $z$ statistic?\n",
    "    </ul>\n",
    "<li>  At what temperature should we consider someone's temperature to be \"abnormal\"?\n",
    "    <ul>\n",
    "    <li> As in the previous example, try calculating everything using the boostrap approach, as well as the frequentist approach.\n",
    "    <li> Start by computing the margin of error and confidence interval. When calculating the confidence interval, keep in mind that you should use the appropriate formula for one draw, and not N draws.\n",
    "    </ul>\n",
    "<li>  Is there a significant difference between males and females in normal temperature?\n",
    "    <ul>\n",
    "    <li> What testing approach did you use and why?\n",
    "    <li> Write a story with your conclusion in the context of the original problem.\n",
    "    </ul>\n",
    "</ol>\n",
    "\n",
    "You can include written notes in notebook cells using Markdown: \n",
    "   - In the control panel at the top, choose Cell > Cell Type > Markdown\n",
    "   - Markdown syntax: http://nestacms.com/docs/creating-content/markdown-cheat-sheet\n",
    "\n",
    "#### Resources\n",
    "\n",
    "+ Information and data sources: http://www.amstat.org/publications/jse/datasets/normtemp.txt, http://www.amstat.org/publications/jse/jse_data_archive.htm\n",
    "+ Markdown syntax: http://nestacms.com/docs/creating-content/markdown-cheat-sheet\n",
    "\n",
    "****"
   ]
  },
  {
   "cell_type": "code",
   "execution_count": 1,
   "metadata": {},
   "outputs": [],
   "source": [
    "import pandas as pd\n",
    "import matplotlib.pyplot as plt\n",
    "import scipy.stats as st\n",
    "import numpy as np\n",
    "\n",
    "df = pd.read_csv('data/human_body_temperature.csv')"
   ]
  },
  {
   "cell_type": "code",
   "execution_count": 2,
   "metadata": {},
   "outputs": [
    {
     "data": {
      "image/png": "[encoded data removed]",
      "text/plain": [
       "<Figure size 432x288 with 1 Axes>"
      ]
     },
     "metadata": {},
     "output_type": "display_data"
    }
   ],
   "source": [
    "#Question 1: Is the distribution of body temperatures normal?\n",
    "# Examine histogram\n",
    "_ = plt.hist(df.temperature)\n",
    "_ = plt.xlabel('temperature (F)')\n",
    "_ = plt.ylabel('count')\n",
    "plt.show()\n",
    "# Looks near normal, with slight negative skew"
   ]
  },
  {
   "cell_type": "code",
   "execution_count": 3,
   "metadata": {},
   "outputs": [
    {
     "data": {
      "text/plain": [
       "NormaltestResult(statistic=2.703801433319203, pvalue=0.2587479863488254)"
      ]
     },
     "execution_count": 3,
     "metadata": {},
     "output_type": "execute_result"
    }
   ],
   "source": [
    "#Formally test normality using D'Augustino & Pearson's method which tests H0 that \n",
    "#sample is taken from a normal distribution\n",
    "hrnormal = st.normaltest(df.temperature, nan_policy = 'omit')\n",
    "hrnormal\n",
    "#Test statistic in nonsignificant indicating that the distribution is normal"
   ]
  },
  {
   "cell_type": "code",
   "execution_count": 4,
   "metadata": {},
   "outputs": [],
   "source": [
    "#Question 2: Is the sample size large? Are the observations independent?"
   ]
  },
  {
   "cell_type": "markdown",
   "metadata": {},
   "source": [
    "While I am not aware of a generic threshold for sample size within the context of the Central Limit Theorem, the sample size was sufficientfor publication in the *Journal of Statistics Education* (Shoemaker, 1996) as well as the *Journal of the American Medical Association*.  Because the observations were randomly sampled and the documentation does not suggest a clustered sampling strategy was used, I will assume the observations are independent."
   ]
  },
  {
   "cell_type": "code",
   "execution_count": 5,
   "metadata": {},
   "outputs": [
    {
     "data": {
      "text/plain": [
       "array([98.23692225, 98.26032975])"
      ]
     },
     "execution_count": 5,
     "metadata": {},
     "output_type": "execute_result"
    }
   ],
   "source": [
    "#Question 3: Is the true population mean really 98.6 degrees F?\n",
    "#Try the bootstrap hypothesis test\n",
    "\n",
    "#Set number of observations per sample to 80% of the sample\n",
    "n = int(len(df.temperature)*.8)\n",
    "\n",
    "#Set number of samples\n",
    "reps = 10000\n",
    "\n",
    "#Create bootstrap samples\n",
    "bootstrap = np.random.choice(df.temperature, (reps, n))\n",
    "bootstrap_mean = bootstrap.mean(axis=0)\n",
    "\n",
    "np.percentile(bootstrap_mean, [2.5, 97.5])\n",
    "#98.6 is not within the 95% confidence interval"
   ]
  },
  {
   "cell_type": "code",
   "execution_count": 6,
   "metadata": {},
   "outputs": [
    {
     "data": {
      "text/plain": [
       "Ttest_1sampResult(statistic=-5.4548232923645195, pvalue=2.4106320415561276e-07)"
      ]
     },
     "execution_count": 6,
     "metadata": {},
     "output_type": "execute_result"
    }
   ],
   "source": [
    "#Use a one-sample t-test because only one value has been sampled and the population value is \"known.\"\n",
    "\n",
    "st.ttest_1samp(df.temperature, popmean=98.6)\n",
    "#The test suggests that the sample is not drawn from a population where the mean in 98.6 (p < .001)"
   ]
  },
  {
   "cell_type": "markdown",
   "metadata": {},
   "source": [
    "In this situation, a t statistic is most appropriate because the population standard deviation is not known (the t distribution accounts for this uncertainty by adjusting the kurtosis of the distribution to have thicker tails)."
   ]
  },
  {
   "cell_type": "code",
   "execution_count": 12,
   "metadata": {},
   "outputs": [
    {
     "data": {
      "text/plain": [
       "(-5.475925202078116, 2.1761575829410943e-08)"
      ]
     },
     "execution_count": 12,
     "metadata": {},
     "output_type": "execute_result"
    }
   ],
   "source": [
    "#Try using the other (z) test\n",
    "#Calculate z statistic and check probability with cumulative density function of the normal distribution\n",
    "z = (np.mean(df.temperature)-98.6)/(np.std(df.temperature)/np.sqrt(len(df.temperature)))\n",
    "print(z, st.norm.cdf(z))"
   ]
  },
  {
   "cell_type": "code",
   "execution_count": null,
   "metadata": {},
   "outputs": [],
   "source": [
    "#How is the result be different? Why?"
   ]
  },
  {
   "cell_type": "markdown",
   "metadata": {},
   "source": [
    "The t statistics produces a lower p value since it is accounting for the uncertainty due to an unknown population distribution (i.e. standard deviation)."
   ]
  },
  {
   "cell_type": "code",
   "execution_count": 9,
   "metadata": {},
   "outputs": [],
   "source": [
    "#Question 4: Draw a small sample of size 10 from the data and repeat both frequentist tests.\n",
    "#Select sample \n",
    "sample10 = np.random.choice(df.temperature, size=10)"
   ]
  },
  {
   "cell_type": "code",
   "execution_count": 10,
   "metadata": {},
   "outputs": [
    {
     "data": {
      "text/plain": [
       "Ttest_1sampResult(statistic=-0.8861566542638413, pvalue=0.3985921277419675)"
      ]
     },
     "execution_count": 10,
     "metadata": {},
     "output_type": "execute_result"
    }
   ],
   "source": [
    "#Conduct t test on sample\n",
    "st.ttest_1samp(sample10, popmean=98.6)\n",
    "#p value fails to reject the null hypothesis"
   ]
  },
  {
   "cell_type": "code",
   "execution_count": 13,
   "metadata": {},
   "outputs": [
    {
     "data": {
      "text/plain": [
       "(-0.9340911303960331, 0.17512844339754302)"
      ]
     },
     "execution_count": 13,
     "metadata": {},
     "output_type": "execute_result"
    }
   ],
   "source": [
    "#Conduct z test on sample\n",
    "z = (np.mean(sample10)-98.6)/(np.std(sample10)/np.sqrt(len(sample10)))\n",
    "print(z, st.norm.cdf(z))\n",
    "#z score corresponds to the 17th percentile  \n",
    "#This is well above the 2.5th percentile which corresponds to the two-tailed p value of 2.5"
   ]
  },
  {
   "cell_type": "code",
   "execution_count": null,
   "metadata": {},
   "outputs": [],
   "source": [
    "#Which one is the correct one to use?\n",
    "#What do you notice? What does this tell you about the difference in application of the  t  and  z  statistic?"
   ]
  },
  {
   "cell_type": "markdown",
   "metadata": {},
   "source": [
    "Again, the t statistic is most appropriate because the population standard deviation is not known.  However, the t statistic is preferred when samples are small.  \n",
    "\n",
    "The p value for the t statistic is, again, more conservative than that of the z statistic.  It shows that the t statistic accounts for uncertainty from both the unknown population standard deviation and the small sample."
   ]
  },
  {
   "cell_type": "code",
   "execution_count": null,
   "metadata": {},
   "outputs": [],
   "source": [
    "#Question 5: At what temperature should we consider someone's temperature to be \"abnormal\"?"
   ]
  },
  {
   "cell_type": "code",
   "execution_count": 40,
   "metadata": {},
   "outputs": [
    {
     "name": "stdout",
     "output_type": "stream",
     "text": [
      "[98.23576125 98.264124  ] 0.014181374999878926\n"
     ]
    }
   ],
   "source": [
    "#Compute the 95% margin of error and confidence interval using the bootstrap approach\n",
    "#Create bootstrap samples - call on reps and n from In[5]\n",
    "bootstrap = np.random.choice(df.temperature, (reps, n))\n",
    "bootstrap_mean = bootstrap.mean(axis=0)\n",
    "\n",
    "#Calculate and print confidence interval and margin of error\n",
    "conf_int = np.percentile(bootstrap_mean, [2.5, 97.5])\n",
    "margin = np.float(np.absolute(conf_int[0]-conf_int[1])/2)\n",
    "print(conf_int, margin)"
   ]
  },
  {
   "cell_type": "code",
   "execution_count": 46,
   "metadata": {},
   "outputs": [
    {
     "name": "stdout",
     "output_type": "stream",
     "text": [
      "0.011011548051183645\n",
      "[98.23821922117959, 98.26024231728196]\n"
     ]
    }
   ],
   "source": [
    "#Compute the 95% margin of error and confidence interval using the frequentist approach\n",
    "#Get mean and std for sample\n",
    "mean = np.mean(df.temperature)\n",
    "std = np.std(df.temperature)\n",
    "\n",
    "#Calculate margin of error with 95% confidence interval. \n",
    "#Note: Because the sample is fairly large, the t ans z values for the 95% confidence interval should be the same.\n",
    "margin = 1.96*(std/len(df.temperature))\n",
    "print(margin)\n",
    "lb = mean-margin\n",
    "ub = mean+margin\n",
    "conf_int = [lb,ub]\n",
    "print(conf_int)\n"
   ]
  },
  {
   "cell_type": "markdown",
   "metadata": {},
   "source": [
    "A person's temperature should be considered abnormal when it is above or below 98.2."
   ]
  },
  {
   "cell_type": "code",
   "execution_count": 58,
   "metadata": {},
   "outputs": [
    {
     "name": "stdout",
     "output_type": "stream",
     "text": [
      "Ttest_indResult(statistic=-2.2854345381656103, pvalue=0.02393188312239561) -0.289230769230727\n"
     ]
    }
   ],
   "source": [
    "#Question 6:Is there a significant difference between males and females in normal temperature?\n",
    "male = df.loc[df['gender']=='M']\n",
    "female = df.loc[df['gender']=='F']\n",
    "#Test equal variances assumption\n",
    "st.levene(male.temperature,female.temperature)\n",
    "#p > .05, so equal variance can be assumed\n",
    "#Conduct t test with equal variances assumed\n",
    "ttest=st.ttest_ind(male.temperature,female.temperature)\n",
    "#Calculate observed mean differences\n",
    "dif=np.mean(male.temperature)-np.mean(female.temperature)\n",
    "#Print test results and difference in mean temperatures\n",
    "print(ttest, dif)"
   ]
  },
  {
   "cell_type": "code",
   "execution_count": null,
   "metadata": {},
   "outputs": [],
   "source": [
    "#What testing approach did you use and why?\n"
   ]
  },
  {
   "cell_type": "markdown",
   "metadata": {},
   "source": [
    "I used an independent samples t test.  This was appropriate because I was comparing differences in the means of a continuous variable (i.e. body temperature) between two indpendent groups (i.e. males and females).  "
   ]
  },
  {
   "cell_type": "code",
   "execution_count": null,
   "metadata": {},
   "outputs": [],
   "source": [
    "#Write a story with your conclusion in the context of the original problem."
   ]
  },
  {
   "cell_type": "markdown",
   "metadata": {},
   "source": [
    "Based on the sample provided in this exercise, we can conclude that the average person's body temperature is not 98.6 degrees Farehnheit.  Instead, it is likely closer to 98.2.  This is supported by both single sample t tests and estimates based on bootstrapping.  Additionally, the t test described above suggests that women have, on average, slightly higher body temperatures than men."
   ]
  }
 ],
 "metadata": {
  "kernelspec": {
   "display_name": "Python 3",
   "language": "python",
   "name": "python3"
  },
  "language_info": {
   "codemirror_mode": {
    "name": "ipython",
    "version": 3
   },
   "file_extension": ".py",
   "mimetype": "text/x-python",
   "name": "python",
   "nbconvert_exporter": "python",
   "pygments_lexer": "ipython3",
   "version": "3.6.5"
  }
 },
 "nbformat": 4,
 "nbformat_minor": 1
}
