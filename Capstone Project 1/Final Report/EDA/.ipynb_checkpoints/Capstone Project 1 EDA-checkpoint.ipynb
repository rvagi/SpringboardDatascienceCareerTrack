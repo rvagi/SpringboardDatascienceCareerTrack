{
 "cells": [
  {
   "cell_type": "markdown",
   "metadata": {},
   "source": [
    "# Capstone Project 1: EDA\n",
    "\n",
    "This notebook contains the code for conducting EDA on the dataset for my first capstone project.  The data used here was pulled from Kaggle's API and was wrangled using code contained in a separate notbook.  The code for data wrangling can be found in this folder's parent directory under \\Data Wrangling\\Capstone Project 1 Data Wrangling.ipynb.  The data used here have been cleaned and are read from a csv file that is stored in this directory.  \n",
    "\n",
    "In the following EDA, I ask several questions to gain a better understanding of the data and to place it within the context of the business problem contained in the project description.  These questions are stated in bold above the corresponding analyses."
   ]
  },
  {
   "cell_type": "code",
   "execution_count": 1,
   "metadata": {},
   "outputs": [],
   "source": [
    "#Import packages\n",
    "\n",
    "import pandas as pd\n",
    "from matplotlib import pyplot as plt\n",
    "import seaborn as sbn\n",
    "import numpy as np\n",
    "from scipy import stats as sts\n",
    "import statsmodels.api as sm\n",
    "import math"
   ]
  },
  {
   "cell_type": "code",
   "execution_count": 2,
   "metadata": {},
   "outputs": [
    {
     "data": {
      "text/html": [
       "<div>\n",
       "<style scoped>\n",
       "    .dataframe tbody tr th:only-of-type {\n",
       "        vertical-align: middle;\n",
       "    }\n",
       "\n",
       "    .dataframe tbody tr th {\n",
       "        vertical-align: top;\n",
       "    }\n",
       "\n",
       "    .dataframe thead th {\n",
       "        text-align: right;\n",
       "    }\n",
       "</style>\n",
       "<table border=\"1\" class=\"dataframe\">\n",
       "  <thead>\n",
       "    <tr style=\"text-align: right;\">\n",
       "      <th></th>\n",
       "      <th>air_store_id</th>\n",
       "      <th>visit_date</th>\n",
       "      <th>visitors</th>\n",
       "      <th>air_genre_name</th>\n",
       "      <th>air_area_name</th>\n",
       "      <th>latitude</th>\n",
       "      <th>longitude</th>\n",
       "      <th>day_of_week</th>\n",
       "      <th>holiday_flg</th>\n",
       "      <th>station_id</th>\n",
       "      <th>...</th>\n",
       "      <th>region_Ōsaka-fu Sakai-shi Minamikawaramachi</th>\n",
       "      <th>region_Ōsaka-fu Suita-shi Izumichō</th>\n",
       "      <th>region_Ōsaka-fu Ōsaka-shi Fuminosato</th>\n",
       "      <th>region_Ōsaka-fu Ōsaka-shi Kyōmachibori</th>\n",
       "      <th>region_Ōsaka-fu Ōsaka-shi Kyūtarōmachi</th>\n",
       "      <th>region_Ōsaka-fu Ōsaka-shi Nakanochō</th>\n",
       "      <th>region_Ōsaka-fu Ōsaka-shi Nanbasennichimae</th>\n",
       "      <th>region_Ōsaka-fu Ōsaka-shi Shinmachi</th>\n",
       "      <th>region_Ōsaka-fu Ōsaka-shi Ōgimachi</th>\n",
       "      <th>region_Ōsaka-fu Ōsaka-shi Ōhiraki</th>\n",
       "    </tr>\n",
       "  </thead>\n",
       "  <tbody>\n",
       "    <tr>\n",
       "      <th>0</th>\n",
       "      <td>air_00a91d42b08b08d9</td>\n",
       "      <td>2016-07-01</td>\n",
       "      <td>35</td>\n",
       "      <td>Italian/French</td>\n",
       "      <td>Tōkyō-to Chiyoda-ku Kudanminami</td>\n",
       "      <td>35.694003</td>\n",
       "      <td>139.753595</td>\n",
       "      <td>Friday</td>\n",
       "      <td>0</td>\n",
       "      <td>tokyo__tokyo-kana__tonokyo</td>\n",
       "      <td>...</td>\n",
       "      <td>0</td>\n",
       "      <td>0</td>\n",
       "      <td>0</td>\n",
       "      <td>0</td>\n",
       "      <td>0</td>\n",
       "      <td>0</td>\n",
       "      <td>0</td>\n",
       "      <td>0</td>\n",
       "      <td>0</td>\n",
       "      <td>0</td>\n",
       "    </tr>\n",
       "    <tr>\n",
       "      <th>1</th>\n",
       "      <td>air_00a91d42b08b08d9</td>\n",
       "      <td>2016-07-02</td>\n",
       "      <td>9</td>\n",
       "      <td>Italian/French</td>\n",
       "      <td>Tōkyō-to Chiyoda-ku Kudanminami</td>\n",
       "      <td>35.694003</td>\n",
       "      <td>139.753595</td>\n",
       "      <td>Saturday</td>\n",
       "      <td>0</td>\n",
       "      <td>tokyo__tokyo-kana__tonokyo</td>\n",
       "      <td>...</td>\n",
       "      <td>0</td>\n",
       "      <td>0</td>\n",
       "      <td>0</td>\n",
       "      <td>0</td>\n",
       "      <td>0</td>\n",
       "      <td>0</td>\n",
       "      <td>0</td>\n",
       "      <td>0</td>\n",
       "      <td>0</td>\n",
       "      <td>0</td>\n",
       "    </tr>\n",
       "    <tr>\n",
       "      <th>2</th>\n",
       "      <td>air_00a91d42b08b08d9</td>\n",
       "      <td>2016-07-03</td>\n",
       "      <td>0</td>\n",
       "      <td>Italian/French</td>\n",
       "      <td>Tōkyō-to Chiyoda-ku Kudanminami</td>\n",
       "      <td>35.694003</td>\n",
       "      <td>139.753595</td>\n",
       "      <td>Sunday</td>\n",
       "      <td>0</td>\n",
       "      <td>tokyo__tokyo-kana__tonokyo</td>\n",
       "      <td>...</td>\n",
       "      <td>0</td>\n",
       "      <td>0</td>\n",
       "      <td>0</td>\n",
       "      <td>0</td>\n",
       "      <td>0</td>\n",
       "      <td>0</td>\n",
       "      <td>0</td>\n",
       "      <td>0</td>\n",
       "      <td>0</td>\n",
       "      <td>0</td>\n",
       "    </tr>\n",
       "    <tr>\n",
       "      <th>3</th>\n",
       "      <td>air_00a91d42b08b08d9</td>\n",
       "      <td>2016-07-04</td>\n",
       "      <td>20</td>\n",
       "      <td>Italian/French</td>\n",
       "      <td>Tōkyō-to Chiyoda-ku Kudanminami</td>\n",
       "      <td>35.694003</td>\n",
       "      <td>139.753595</td>\n",
       "      <td>Monday</td>\n",
       "      <td>0</td>\n",
       "      <td>tokyo__tokyo-kana__tonokyo</td>\n",
       "      <td>...</td>\n",
       "      <td>0</td>\n",
       "      <td>0</td>\n",
       "      <td>0</td>\n",
       "      <td>0</td>\n",
       "      <td>0</td>\n",
       "      <td>0</td>\n",
       "      <td>0</td>\n",
       "      <td>0</td>\n",
       "      <td>0</td>\n",
       "      <td>0</td>\n",
       "    </tr>\n",
       "    <tr>\n",
       "      <th>4</th>\n",
       "      <td>air_00a91d42b08b08d9</td>\n",
       "      <td>2016-07-05</td>\n",
       "      <td>25</td>\n",
       "      <td>Italian/French</td>\n",
       "      <td>Tōkyō-to Chiyoda-ku Kudanminami</td>\n",
       "      <td>35.694003</td>\n",
       "      <td>139.753595</td>\n",
       "      <td>Tuesday</td>\n",
       "      <td>0</td>\n",
       "      <td>tokyo__tokyo-kana__tonokyo</td>\n",
       "      <td>...</td>\n",
       "      <td>0</td>\n",
       "      <td>0</td>\n",
       "      <td>0</td>\n",
       "      <td>0</td>\n",
       "      <td>0</td>\n",
       "      <td>0</td>\n",
       "      <td>0</td>\n",
       "      <td>0</td>\n",
       "      <td>0</td>\n",
       "      <td>0</td>\n",
       "    </tr>\n",
       "  </tbody>\n",
       "</table>\n",
       "<p>5 rows × 185 columns</p>\n",
       "</div>"
      ],
      "text/plain": [
       "           air_store_id  visit_date  visitors  air_genre_name  \\\n",
       "0  air_00a91d42b08b08d9  2016-07-01        35  Italian/French   \n",
       "1  air_00a91d42b08b08d9  2016-07-02         9  Italian/French   \n",
       "2  air_00a91d42b08b08d9  2016-07-03         0  Italian/French   \n",
       "3  air_00a91d42b08b08d9  2016-07-04        20  Italian/French   \n",
       "4  air_00a91d42b08b08d9  2016-07-05        25  Italian/French   \n",
       "\n",
       "                     air_area_name   latitude   longitude day_of_week  \\\n",
       "0  Tōkyō-to Chiyoda-ku Kudanminami  35.694003  139.753595      Friday   \n",
       "1  Tōkyō-to Chiyoda-ku Kudanminami  35.694003  139.753595    Saturday   \n",
       "2  Tōkyō-to Chiyoda-ku Kudanminami  35.694003  139.753595      Sunday   \n",
       "3  Tōkyō-to Chiyoda-ku Kudanminami  35.694003  139.753595      Monday   \n",
       "4  Tōkyō-to Chiyoda-ku Kudanminami  35.694003  139.753595     Tuesday   \n",
       "\n",
       "   holiday_flg                  station_id                ...                  \\\n",
       "0            0  tokyo__tokyo-kana__tonokyo                ...                   \n",
       "1            0  tokyo__tokyo-kana__tonokyo                ...                   \n",
       "2            0  tokyo__tokyo-kana__tonokyo                ...                   \n",
       "3            0  tokyo__tokyo-kana__tonokyo                ...                   \n",
       "4            0  tokyo__tokyo-kana__tonokyo                ...                   \n",
       "\n",
       "   region_Ōsaka-fu Sakai-shi Minamikawaramachi  \\\n",
       "0                                            0   \n",
       "1                                            0   \n",
       "2                                            0   \n",
       "3                                            0   \n",
       "4                                            0   \n",
       "\n",
       "   region_Ōsaka-fu Suita-shi Izumichō  region_Ōsaka-fu Ōsaka-shi Fuminosato  \\\n",
       "0                                   0                                     0   \n",
       "1                                   0                                     0   \n",
       "2                                   0                                     0   \n",
       "3                                   0                                     0   \n",
       "4                                   0                                     0   \n",
       "\n",
       "   region_Ōsaka-fu Ōsaka-shi Kyōmachibori  \\\n",
       "0                                       0   \n",
       "1                                       0   \n",
       "2                                       0   \n",
       "3                                       0   \n",
       "4                                       0   \n",
       "\n",
       "   region_Ōsaka-fu Ōsaka-shi Kyūtarōmachi  \\\n",
       "0                                       0   \n",
       "1                                       0   \n",
       "2                                       0   \n",
       "3                                       0   \n",
       "4                                       0   \n",
       "\n",
       "   region_Ōsaka-fu Ōsaka-shi Nakanochō  \\\n",
       "0                                    0   \n",
       "1                                    0   \n",
       "2                                    0   \n",
       "3                                    0   \n",
       "4                                    0   \n",
       "\n",
       "   region_Ōsaka-fu Ōsaka-shi Nanbasennichimae  \\\n",
       "0                                           0   \n",
       "1                                           0   \n",
       "2                                           0   \n",
       "3                                           0   \n",
       "4                                           0   \n",
       "\n",
       "   region_Ōsaka-fu Ōsaka-shi Shinmachi  region_Ōsaka-fu Ōsaka-shi Ōgimachi  \\\n",
       "0                                    0                                   0   \n",
       "1                                    0                                   0   \n",
       "2                                    0                                   0   \n",
       "3                                    0                                   0   \n",
       "4                                    0                                   0   \n",
       "\n",
       "   region_Ōsaka-fu Ōsaka-shi Ōhiraki  \n",
       "0                                  0  \n",
       "1                                  0  \n",
       "2                                  0  \n",
       "3                                  0  \n",
       "4                                  0  \n",
       "\n",
       "[5 rows x 185 columns]"
      ]
     },
     "execution_count": 2,
     "metadata": {},
     "output_type": "execute_result"
    }
   ],
   "source": [
    "#Begin by reading in data\n",
    "\n",
    "df = pd.read_csv('C:/Users/robva/Dropbox (Personal)/Springboard Data Science Course/Capstone Project 1/EDA/file_for_analysis_1.csv')\n",
    "df = df.drop('Unnamed: 0', axis=1)\n",
    "df.head()"
   ]
  },
  {
   "cell_type": "markdown",
   "metadata": {},
   "source": [
    "# How many observations are there?"
   ]
  },
  {
   "cell_type": "code",
   "execution_count": 3,
   "metadata": {},
   "outputs": [
    {
     "name": "stdout",
     "output_type": "stream",
     "text": [
      "There are 296279 unique observations.\n"
     ]
    }
   ],
   "source": [
    "n = df.air_store_id.count()\n",
    "print(\"There are\", n, \"unique observations.\")"
   ]
  },
  {
   "cell_type": "markdown",
   "metadata": {},
   "source": [
    "# What dates do the dataset cover?"
   ]
  },
  {
   "cell_type": "code",
   "execution_count": 4,
   "metadata": {},
   "outputs": [
    {
     "name": "stdout",
     "output_type": "stream",
     "text": [
      "The data include observations for every day between Friday , 2016-01-01 and Saturday , 2017-04-22 .\n"
     ]
    }
   ],
   "source": [
    "df = df.sort_values(by = 'visit_date', ascending = True)\n",
    "beginning = df.visit_date.min()\n",
    "first_day = df.iloc[0,7]\n",
    "last_day = df.iloc[-1,7]\n",
    "end = df.visit_date.max()\n",
    "print(\"The data include observations for every day between\", first_day,\",\",beginning, \"and\",last_day,\",\", end,\".\")"
   ]
  },
  {
   "cell_type": "markdown",
   "metadata": {},
   "source": [
    "# How many restaurants are included in the dataset?"
   ]
  },
  {
   "cell_type": "code",
   "execution_count": 5,
   "metadata": {},
   "outputs": [
    {
     "name": "stdout",
     "output_type": "stream",
     "text": [
      "There are 829 restaurants in the dataset.\n"
     ]
    }
   ],
   "source": [
    "n_restaurant = len(df.groupby('air_store_id'))\n",
    "print(\"There are\",n_restaurant,\"restaurants in the dataset.\")"
   ]
  },
  {
   "cell_type": "markdown",
   "metadata": {},
   "source": [
    "# How many stores are in each geographic region?\n"
   ]
  },
  {
   "cell_type": "code",
   "execution_count": 6,
   "metadata": {},
   "outputs": [
    {
     "data": {
      "text/html": [
       "<div>\n",
       "<style scoped>\n",
       "    .dataframe tbody tr th:only-of-type {\n",
       "        vertical-align: middle;\n",
       "    }\n",
       "\n",
       "    .dataframe tbody tr th {\n",
       "        vertical-align: top;\n",
       "    }\n",
       "\n",
       "    .dataframe thead th {\n",
       "        text-align: right;\n",
       "    }\n",
       "</style>\n",
       "<table border=\"1\" class=\"dataframe\">\n",
       "  <thead>\n",
       "    <tr style=\"text-align: right;\">\n",
       "      <th></th>\n",
       "      <th>air_store_id</th>\n",
       "    </tr>\n",
       "    <tr>\n",
       "      <th>air_area_name</th>\n",
       "      <th></th>\n",
       "    </tr>\n",
       "  </thead>\n",
       "  <tbody>\n",
       "    <tr>\n",
       "      <th>Fukuoka-ken Fukuoka-shi Daimyō</th>\n",
       "      <td>64</td>\n",
       "    </tr>\n",
       "    <tr>\n",
       "      <th>Tōkyō-to Shibuya-ku Shibuya</th>\n",
       "      <td>58</td>\n",
       "    </tr>\n",
       "    <tr>\n",
       "      <th>Tōkyō-to Minato-ku Shibakōen</th>\n",
       "      <td>51</td>\n",
       "    </tr>\n",
       "    <tr>\n",
       "      <th>Tōkyō-to Shinjuku-ku Kabukichō</th>\n",
       "      <td>39</td>\n",
       "    </tr>\n",
       "    <tr>\n",
       "      <th>Tōkyō-to Setagaya-ku Setagaya</th>\n",
       "      <td>30</td>\n",
       "    </tr>\n",
       "    <tr>\n",
       "      <th>Tōkyō-to Chūō-ku Tsukiji</th>\n",
       "      <td>29</td>\n",
       "    </tr>\n",
       "    <tr>\n",
       "      <th>Ōsaka-fu Ōsaka-shi Ōgimachi</th>\n",
       "      <td>25</td>\n",
       "    </tr>\n",
       "    <tr>\n",
       "      <th>Hiroshima-ken Hiroshima-shi Kokutaijimachi</th>\n",
       "      <td>23</td>\n",
       "    </tr>\n",
       "    <tr>\n",
       "      <th>Tōkyō-to Meguro-ku Kamimeguro</th>\n",
       "      <td>22</td>\n",
       "    </tr>\n",
       "    <tr>\n",
       "      <th>Hokkaidō Sapporo-shi Minami 3 Jōnishi</th>\n",
       "      <td>21</td>\n",
       "    </tr>\n",
       "  </tbody>\n",
       "</table>\n",
       "</div>"
      ],
      "text/plain": [
       "                                            air_store_id\n",
       "air_area_name                                           \n",
       "Fukuoka-ken Fukuoka-shi Daimyō                        64\n",
       "Tōkyō-to Shibuya-ku Shibuya                           58\n",
       "Tōkyō-to Minato-ku Shibakōen                          51\n",
       "Tōkyō-to Shinjuku-ku Kabukichō                        39\n",
       "Tōkyō-to Setagaya-ku Setagaya                         30\n",
       "Tōkyō-to Chūō-ku Tsukiji                              29\n",
       "Ōsaka-fu Ōsaka-shi Ōgimachi                           25\n",
       "Hiroshima-ken Hiroshima-shi Kokutaijimachi            23\n",
       "Tōkyō-to Meguro-ku Kamimeguro                         22\n",
       "Hokkaidō Sapporo-shi Minami 3 Jōnishi                 21"
      ]
     },
     "execution_count": 6,
     "metadata": {},
     "output_type": "execute_result"
    }
   ],
   "source": [
    "stores_by_region = df.drop_duplicates(['air_area_name','air_store_id'], keep='first')\n",
    "stores_by_region = stores_by_region.groupby(by='air_area_name').count()\n",
    "stores_by_region = stores_by_region['air_store_id'].to_frame().sort_values(by = 'air_store_id', ascending=False)\n",
    "pd.set_option('display.max_rows', 103)\n",
    "stores_by_region.head(10)"
   ]
  },
  {
   "cell_type": "markdown",
   "metadata": {},
   "source": [
    "# How many restaurants are in each 'genre'?"
   ]
  },
  {
   "cell_type": "code",
   "execution_count": 7,
   "metadata": {},
   "outputs": [
    {
     "data": {
      "image/png": "[encoded data removed]",
      "text/plain": [
       "<Figure size 432x288 with 1 Axes>"
      ]
     },
     "metadata": {},
     "output_type": "display_data"
    },
    {
     "data": {
      "text/plain": [
       "<Figure size 432x288 with 0 Axes>"
      ]
     },
     "metadata": {},
     "output_type": "display_data"
    }
   ],
   "source": [
    "stores_by_type = df.drop_duplicates(['air_genre_name','air_store_id'], keep='first')\n",
    "stores_by_type = stores_by_type.groupby(by='air_genre_name').count()\n",
    "stores_by_type = stores_by_type['air_store_id'].to_frame().sort_values(by = 'air_store_id', ascending=True)\n",
    "stores_by_type = stores_by_type.rename({'air_store_id':'Count'})\n",
    "stores_by_type.plot(kind='barh')\n",
    "plt.ylabel('Restaurant Type')\n",
    "plt.show()\n",
    "plt.gcf().clear()"
   ]
  },
  {
   "cell_type": "markdown",
   "metadata": {},
   "source": [
    "# What is the distribution of reservations?"
   ]
  },
  {
   "cell_type": "code",
   "execution_count": 8,
   "metadata": {},
   "outputs": [
    {
     "data": {
      "image/png": "[encoded data removed]",
      "text/plain": [
       "<Figure size 432x288 with 1 Axes>"
      ]
     },
     "metadata": {},
     "output_type": "display_data"
    }
   ],
   "source": [
    "plt.hist(df.visitors_recode, bins = 400)\n",
    "plt.ylim(df.visitors_recode.min(),10000)\n",
    "plt.xlabel('Number of Daily Visitors')\n",
    "plt.ylabel('Number of Observations')\n",
    "plt.show()"
   ]
  },
  {
   "cell_type": "code",
   "execution_count": 9,
   "metadata": {},
   "outputs": [
    {
     "name": "stdout",
     "output_type": "stream",
     "text": [
      "Median Visitors: 14.0\n",
      "count    296279.000000\n",
      "mean         17.778167\n",
      "std          16.607249\n",
      "min           0.000000\n",
      "25%           5.000000\n",
      "50%          14.000000\n",
      "75%          26.000000\n",
      "max         199.855943\n",
      "Name: visitors_recode, dtype: float64\n"
     ]
    }
   ],
   "source": [
    "median = df.visitors_recode.median()\n",
    "print('Median Visitors:',median)\n",
    "print(df.visitors_recode.describe())"
   ]
  },
  {
   "cell_type": "markdown",
   "metadata": {},
   "source": [
    "# How many observations have zero visitors?"
   ]
  },
  {
   "cell_type": "code",
   "execution_count": 10,
   "metadata": {},
   "outputs": [
    {
     "name": "stdout",
     "output_type": "stream",
     "text": [
      "There are many observations with 0 visitors ( 44171 ).  This is  14.908582788520281 % of the sample.\n"
     ]
    }
   ],
   "source": [
    "abnormal_freq = df.groupby('visitors_recode').count()\n",
    "abnormal_freq = abnormal_freq.sort_values(by = 'air_store_id', ascending = False)\n",
    "zeros = abnormal_freq.iloc[0,0]\n",
    "pct_zeros = (zeros/len(df['visitors_recode']))*100\n",
    "print('There are many observations with 0 visitors (', zeros,').  This is ', pct_zeros,'% of the sample.')"
   ]
  },
  {
   "cell_type": "markdown",
   "metadata": {},
   "source": [
    "# How do average reservations change over time?"
   ]
  },
  {
   "cell_type": "code",
   "execution_count": 11,
   "metadata": {},
   "outputs": [
    {
     "data": {
      "image/png": "[encoded data removed]",
      "text/plain": [
       "<Figure size 432x288 with 1 Axes>"
      ]
     },
     "metadata": {},
     "output_type": "display_data"
    },
    {
     "name": "stdout",
     "output_type": "stream",
     "text": [
      "There does not appear to be an overall trend. However, there are clearly seasonal trends within each month.\n",
      "There also appears to be some slight within-year trends. I will need to investigate the anomaly in January 2017 further.\n"
     ]
    }
   ],
   "source": [
    "df_dtix = df.set_index(pd.DatetimeIndex(df['visit_date']))\n",
    "daily = df_dtix.resample('D').mean()\n",
    "daily.visitors_recode.plot()\n",
    "plt.title('Average Daily Visitors')\n",
    "plt.show()\n",
    "print('There does not appear to be an overall trend. However, there are clearly seasonal trends within each month.')  \n",
    "print('There also appears to be some slight within-year trends. I will need to investigate the anomaly in January 2017 further.')\n"
   ]
  },
  {
   "cell_type": "code",
   "execution_count": 12,
   "metadata": {},
   "outputs": [
    {
     "data": {
      "image/png": "[encoded data removed]",
      "text/plain": [
       "<Figure size 432x288 with 1 Axes>"
      ]
     },
     "metadata": {},
     "output_type": "display_data"
    },
    {
     "name": "stdout",
     "output_type": "stream",
     "text": [
      "Looking at this trend by week provides a clearer picture of the seasonal variation.\n",
      "It looks as if the number of visitors is highest April through July, December, and January.\n",
      "The months betwen August through November seem to slow down for restaurants.\n"
     ]
    }
   ],
   "source": [
    "df_dtix = df.set_index(pd.DatetimeIndex(df['visit_date']))\n",
    "weekly = df_dtix.resample('W').mean()\n",
    "weekly.visitors_recode.plot()\n",
    "plt.title('Average Weekly Visitors')\n",
    "plt.show()\n",
    "print('Looking at this trend by week provides a clearer picture of the seasonal variation.')\n",
    "print('It looks as if the number of visitors is highest April through July, December, and January.')\n",
    "print('The months betwen August through November seem to slow down for restaurants.')"
   ]
  },
  {
   "cell_type": "markdown",
   "metadata": {},
   "source": [
    "# Does the number of visitors change by day of the week?"
   ]
  },
  {
   "cell_type": "code",
   "execution_count": 13,
   "metadata": {},
   "outputs": [
    {
     "data": {
      "image/png": "[encoded data removed]",
      "text/plain": [
       "<Figure size 432x288 with 1 Axes>"
      ]
     },
     "metadata": {},
     "output_type": "display_data"
    },
    {
     "name": "stdout",
     "output_type": "stream",
     "text": [
      "Monday is the slowest day of the week. The average number of visitors increases steadily throughout the week\n",
      "and drops sharply on Sunday.\n"
     ]
    }
   ],
   "source": [
    "ordered_days = ['Monday', 'Tuesday', 'Wednesday', 'Thursday', 'Friday', 'Saturday', 'Sunday']\n",
    "by_weekday = df.groupby(df.day_of_week).mean().reindex(ordered_days)\n",
    "by_weekday.visitors_recode.plot()\n",
    "plt.xticks(np.arange(7),('Mon', 'Tues', 'Wed', 'Thurs', 'Fri', 'Sat', 'Sun'))\n",
    "plt.title('Average Visitors by Day of the Week')\n",
    "plt.show()\n",
    "print('Monday is the slowest day of the week. The average number of visitors increases steadily throughout the week')\n",
    "print('and drops sharply on Sunday.')"
   ]
  },
  {
   "cell_type": "markdown",
   "metadata": {},
   "source": [
    "# Which variables are significantly related to the number of visitors on a given day?"
   ]
  },
  {
   "cell_type": "code",
   "execution_count": 18,
   "metadata": {},
   "outputs": [
    {
     "name": "stdout",
     "output_type": "stream",
     "text": [
      "                    visitors_recode  avg_temperature  high_temperature  \\\n",
      "visitors_recode            1.000000        -0.005168         -0.002688   \n",
      "avg_temperature           -0.005168         1.000000          0.984714   \n",
      "high_temperature          -0.002688         0.984714          1.000000   \n",
      "low_temperature           -0.010364         0.985531          0.947633   \n",
      "precipitation             -0.040192         0.152665          0.109469   \n",
      "hours_sunlight             0.036339         0.007671          0.116008   \n",
      "day_of_month               0.028570        -0.028455         -0.036883   \n",
      "rolling_mean               0.648924         0.006649          0.005501   \n",
      "rolling_median             0.622436         0.021073          0.020277   \n",
      "rolling_std                0.508848        -0.044501         -0.045028   \n",
      "rolling_mean_lag           0.605290         0.011052          0.009240   \n",
      "rolling_median_lag         0.580626         0.022156          0.020419   \n",
      "rolling_std_lag            0.480565        -0.031231         -0.032053   \n",
      "visitors_lag               0.644737        -0.004591         -0.003986   \n",
      "\n",
      "                    low_temperature  precipitation  hours_sunlight  \\\n",
      "visitors_recode           -0.010364      -0.040192        0.036339   \n",
      "avg_temperature            0.985531       0.152665        0.007671   \n",
      "high_temperature           0.947633       0.109469        0.116008   \n",
      "low_temperature            1.000000       0.188721       -0.094458   \n",
      "precipitation              0.188721       1.000000       -0.327238   \n",
      "hours_sunlight            -0.094458      -0.327238        1.000000   \n",
      "day_of_month              -0.023928       0.070020       -0.076352   \n",
      "rolling_mean               0.006422      -0.005861        0.011256   \n",
      "rolling_median             0.020591      -0.005132        0.013819   \n",
      "rolling_std               -0.043713      -0.007891        0.008403   \n",
      "rolling_mean_lag           0.011372      -0.000458        0.008529   \n",
      "rolling_median_lag         0.022403       0.002591        0.009118   \n",
      "rolling_std_lag           -0.030224      -0.011163        0.009485   \n",
      "visitors_lag              -0.006391      -0.020971        0.020150   \n",
      "\n",
      "                    day_of_month  rolling_mean  rolling_median  rolling_std  \\\n",
      "visitors_recode         0.028570      0.648924        0.622436     0.508848   \n",
      "avg_temperature        -0.028455      0.006649        0.021073    -0.044501   \n",
      "high_temperature       -0.036883      0.005501        0.020277    -0.045028   \n",
      "low_temperature        -0.023928      0.006422        0.020591    -0.043713   \n",
      "precipitation           0.070020     -0.005861       -0.005132    -0.007891   \n",
      "hours_sunlight         -0.076352      0.011256        0.013819     0.008403   \n",
      "day_of_month            1.000000     -0.006749       -0.007499    -0.000502   \n",
      "rolling_mean           -0.006749      1.000000        0.964424     0.796863   \n",
      "rolling_median         -0.007499      0.964424        1.000000     0.711538   \n",
      "rolling_std            -0.000502      0.796863        0.711538     1.000000   \n",
      "rolling_mean_lag       -0.003016      0.967736        0.934514     0.787066   \n",
      "rolling_median_lag      0.001837      0.930217        0.954826     0.705573   \n",
      "rolling_std_lag        -0.017106      0.776688        0.698466     0.946496   \n",
      "visitors_lag            0.002087      0.647960        0.625228     0.511238   \n",
      "\n",
      "                    rolling_mean_lag  rolling_median_lag  rolling_std_lag  \\\n",
      "visitors_recode             0.605290            0.580626         0.480565   \n",
      "avg_temperature             0.011052            0.022156        -0.031231   \n",
      "high_temperature            0.009240            0.020419        -0.032053   \n",
      "low_temperature             0.011372            0.022403        -0.030224   \n",
      "precipitation              -0.000458            0.002591        -0.011163   \n",
      "hours_sunlight              0.008529            0.009118         0.009485   \n",
      "day_of_month               -0.003016            0.001837        -0.017106   \n",
      "rolling_mean                0.967736            0.930217         0.776688   \n",
      "rolling_median              0.934514            0.954826         0.698466   \n",
      "rolling_std                 0.787066            0.705573         0.946496   \n",
      "rolling_mean_lag            1.000000            0.963590         0.790972   \n",
      "rolling_median_lag          0.963590            1.000000         0.701012   \n",
      "rolling_std_lag             0.790972            0.701012         1.000000   \n",
      "visitors_lag                0.648836            0.621771         0.504858   \n",
      "\n",
      "                    visitors_lag  \n",
      "visitors_recode         0.644737  \n",
      "avg_temperature        -0.004591  \n",
      "high_temperature       -0.003986  \n",
      "low_temperature        -0.006391  \n",
      "precipitation          -0.020971  \n",
      "hours_sunlight          0.020150  \n",
      "day_of_month            0.002087  \n",
      "rolling_mean            0.647960  \n",
      "rolling_median          0.625228  \n",
      "rolling_std             0.511238  \n",
      "rolling_mean_lag        0.648836  \n",
      "rolling_median_lag      0.621771  \n",
      "rolling_std_lag         0.504858  \n",
      "visitors_lag            1.000000  \n"
     ]
    }
   ],
   "source": [
    "cont_vars = ['visitors_recode', 'avg_temperature', 'high_temperature', 'low_temperature', \n",
    "            'precipitation', 'hours_sunlight', 'day_of_month', 'rolling_mean', 'rolling_median',\n",
    "            'rolling_std', 'rolling_mean_lag', 'rolling_median_lag', 'rolling_std_lag', 'visitors_lag']\n",
    "print(df[cont_vars].corr())"
   ]
  },
  {
   "cell_type": "code",
   "execution_count": 16,
   "metadata": {},
   "outputs": [
    {
     "data": {
      "text/plain": [
       "['air_store_id',\n",
       " 'visit_date',\n",
       " 'visitors',\n",
       " 'air_genre_name',\n",
       " 'air_area_name',\n",
       " 'latitude',\n",
       " 'longitude',\n",
       " 'day_of_week',\n",
       " 'holiday_flg',\n",
       " 'station_id',\n",
       " 'avg_temperature',\n",
       " 'high_temperature',\n",
       " 'low_temperature',\n",
       " 'precipitation',\n",
       " 'hours_sunlight',\n",
       " 'avg_temperature_missing',\n",
       " 'high_temperature_missing',\n",
       " 'low_temperature_missing',\n",
       " 'precipitation_missing',\n",
       " 'hours_sunlight_missing',\n",
       " 'extreme_value',\n",
       " 'visitors_recode',\n",
       " 'Friday',\n",
       " 'Monday',\n",
       " 'Saturday',\n",
       " 'Sunday',\n",
       " 'Thursday',\n",
       " 'Tuesday',\n",
       " 'Wednesday',\n",
       " 'day_of_month',\n",
       " 'day_of_month_1',\n",
       " 'day_of_month_2',\n",
       " 'day_of_month_3',\n",
       " 'day_of_month_4',\n",
       " 'day_of_month_5',\n",
       " 'day_of_month_6',\n",
       " 'day_of_month_7',\n",
       " 'day_of_month_8',\n",
       " 'day_of_month_9',\n",
       " 'day_of_month_10',\n",
       " 'day_of_month_11',\n",
       " 'day_of_month_12',\n",
       " 'day_of_month_13',\n",
       " 'day_of_month_14',\n",
       " 'day_of_month_15',\n",
       " 'day_of_month_16',\n",
       " 'day_of_month_17',\n",
       " 'day_of_month_18',\n",
       " 'day_of_month_19',\n",
       " 'day_of_month_20',\n",
       " 'day_of_month_21',\n",
       " 'day_of_month_22',\n",
       " 'day_of_month_23',\n",
       " 'day_of_month_24',\n",
       " 'day_of_month_25',\n",
       " 'day_of_month_26',\n",
       " 'day_of_month_27',\n",
       " 'day_of_month_28',\n",
       " 'day_of_month_29',\n",
       " 'day_of_month_30',\n",
       " 'day_of_month_31',\n",
       " 'rolling_mean',\n",
       " 'rolling_median',\n",
       " 'rolling_std',\n",
       " 'rolling_mean_lag',\n",
       " 'rolling_median_lag',\n",
       " 'rolling_std_lag',\n",
       " 'visitors_lag',\n",
       " 'genre_Asian',\n",
       " 'genre_Bar/Cocktail',\n",
       " 'genre_Cafe/Sweets',\n",
       " 'genre_Creative cuisine',\n",
       " 'genre_Dining bar',\n",
       " 'genre_International cuisine',\n",
       " 'genre_Italian/French',\n",
       " 'genre_Izakaya',\n",
       " 'genre_Japanese food',\n",
       " 'genre_Karaoke/Party',\n",
       " 'genre_Okonomiyaki/Monja/Teppanyaki',\n",
       " 'genre_Other',\n",
       " 'genre_Western food',\n",
       " 'genre_Yakiniku/Korean food',\n",
       " 'region_Fukuoka-ken Fukuoka-shi Daimyō',\n",
       " 'region_Fukuoka-ken Fukuoka-shi Hakata Ekimae',\n",
       " 'region_Fukuoka-ken Fukuoka-shi Imaizumi',\n",
       " 'region_Fukuoka-ken Fukuoka-shi Momochi',\n",
       " 'region_Fukuoka-ken Fukuoka-shi Shiobaru',\n",
       " 'region_Fukuoka-ken Fukuoka-shi Takatori',\n",
       " 'region_Fukuoka-ken Fukuoka-shi Tenjin',\n",
       " 'region_Fukuoka-ken Fukuoka-shi Torikai',\n",
       " 'region_Fukuoka-ken Itoshima-shi Maebarunishi',\n",
       " 'region_Fukuoka-ken Kitakyūshū-shi Konyamachi',\n",
       " 'region_Fukuoka-ken Kitakyūshū-shi None',\n",
       " 'region_Fukuoka-ken Kitakyūshū-shi Ōtemachi',\n",
       " 'region_Fukuoka-ken Kurume-shi Jōnanmachi',\n",
       " 'region_Fukuoka-ken Yame-shi Motomachi',\n",
       " 'region_Hiroshima-ken Fukuyama-shi Higashisakuramachi',\n",
       " 'region_Hiroshima-ken Hiroshima-shi Kokutaijimachi',\n",
       " 'region_Hiroshima-ken Hiroshima-shi Nagarekawachō',\n",
       " 'region_Hokkaidō Abashiri-shi Minami 6 Jōhigashi',\n",
       " 'region_Hokkaidō Asahikawa-shi 6 Jōdōri',\n",
       " 'region_Hokkaidō Katō-gun Motomachi',\n",
       " 'region_Hokkaidō Sapporo-shi Atsubetsuchūō 1 Jō',\n",
       " 'region_Hokkaidō Sapporo-shi Kita 24 Jōnishi',\n",
       " 'region_Hokkaidō Sapporo-shi Kotoni 2 Jō',\n",
       " 'region_Hokkaidō Sapporo-shi Minami 3 Jōnishi',\n",
       " 'region_Hyōgo-ken Amagasaki-shi Higashinanamatsuchō',\n",
       " 'region_Hyōgo-ken Himeji-shi Yasuda',\n",
       " 'region_Hyōgo-ken Kakogawa-shi Kakogawachō Kitazaike',\n",
       " 'region_Hyōgo-ken Kōbe-shi Kumoidōri',\n",
       " 'region_Hyōgo-ken Kōbe-shi Motomachidōri',\n",
       " 'region_Hyōgo-ken Kōbe-shi Sumiyoshi Higashimachi',\n",
       " 'region_Hyōgo-ken Nishinomiya-shi Rokutanjichō',\n",
       " 'region_Hyōgo-ken Takarazuka-shi Tōyōchō',\n",
       " 'region_Miyagi-ken Sendai-shi Kamisugi',\n",
       " 'region_Niigata-ken Kashiwazaki-shi Chūōchō',\n",
       " 'region_Niigata-ken Nagaoka-shi Ōtedōri',\n",
       " 'region_Niigata-ken Niigata-shi Gakkōchōdōri 1 Banchō',\n",
       " 'region_Niigata-ken Niigata-shi Teraohigashi',\n",
       " 'region_Shizuoka-ken Hamamatsu-shi Motoshirochō',\n",
       " 'region_Shizuoka-ken Numazu-shi Miyukichō',\n",
       " 'region_Shizuoka-ken Shizuoka-shi Ōtemachi',\n",
       " 'region_Tōkyō-to Adachi-ku Chūōhonchō',\n",
       " 'region_Tōkyō-to Bunkyō-ku Kasuga',\n",
       " 'region_Tōkyō-to Bunkyō-ku Sendagi',\n",
       " 'region_Tōkyō-to Chiyoda-ku Kanda Jinbōchō',\n",
       " 'region_Tōkyō-to Chiyoda-ku Kudanminami',\n",
       " 'region_Tōkyō-to Chūō-ku Ginza',\n",
       " 'region_Tōkyō-to Chūō-ku Tsukiji',\n",
       " 'region_Tōkyō-to Edogawa-ku Chūō',\n",
       " 'region_Tōkyō-to Fuchū-shi Miyanishichō',\n",
       " 'region_Tōkyō-to Itabashi-ku Itabashi',\n",
       " 'region_Tōkyō-to Katsushika-ku Tateishi',\n",
       " 'region_Tōkyō-to Kita-ku Ōjihonchō',\n",
       " 'region_Tōkyō-to Koganei-shi Honchō',\n",
       " 'region_Tōkyō-to Kōtō-ku Kameido',\n",
       " 'region_Tōkyō-to Kōtō-ku Tomioka',\n",
       " 'region_Tōkyō-to Kōtō-ku Tōyō',\n",
       " 'region_Tōkyō-to Machida-shi Morino',\n",
       " 'region_Tōkyō-to Meguro-ku Jiyūgaoka',\n",
       " 'region_Tōkyō-to Meguro-ku Kamimeguro',\n",
       " 'region_Tōkyō-to Meguro-ku Takaban',\n",
       " 'region_Tōkyō-to Minato-ku Akasaka',\n",
       " 'region_Tōkyō-to Minato-ku Roppongi',\n",
       " 'region_Tōkyō-to Minato-ku Shibakōen',\n",
       " 'region_Tōkyō-to Musashino-shi Kichijōji Honchō',\n",
       " 'region_Tōkyō-to Musashino-shi Midorichō',\n",
       " 'region_Tōkyō-to Nakano-ku Nakano',\n",
       " 'region_Tōkyō-to Nerima-ku Toyotamakita',\n",
       " 'region_Tōkyō-to Setagaya-ku Kitazawa',\n",
       " 'region_Tōkyō-to Setagaya-ku Okusawa',\n",
       " 'region_Tōkyō-to Setagaya-ku Sangenjaya',\n",
       " 'region_Tōkyō-to Setagaya-ku Setagaya',\n",
       " 'region_Tōkyō-to Shibuya-ku Dōgenzaka',\n",
       " 'region_Tōkyō-to Shibuya-ku Higashi',\n",
       " 'region_Tōkyō-to Shibuya-ku Jingūmae',\n",
       " 'region_Tōkyō-to Shibuya-ku Shibuya',\n",
       " 'region_Tōkyō-to Shinagawa-ku Higashigotanda',\n",
       " 'region_Tōkyō-to Shinagawa-ku Hiromachi',\n",
       " 'region_Tōkyō-to Shinjuku-ku Kabukichō',\n",
       " 'region_Tōkyō-to Shinjuku-ku Nishishinjuku',\n",
       " 'region_Tōkyō-to Suginami-ku Asagayaminami',\n",
       " 'region_Tōkyō-to Tachikawa-shi Izumichō',\n",
       " 'region_Tōkyō-to Taitō-ku Asakusa',\n",
       " 'region_Tōkyō-to Taitō-ku Higashiueno',\n",
       " 'region_Tōkyō-to Taitō-ku Kuramae',\n",
       " 'region_Tōkyō-to Toshima-ku Higashiikebukuro',\n",
       " 'region_Tōkyō-to Toshima-ku Mejiro',\n",
       " 'region_Tōkyō-to Toshima-ku Minamiikebukuro',\n",
       " 'region_Tōkyō-to Toshima-ku Nishiikebukuro',\n",
       " 'region_Tōkyō-to Toshima-ku Sugamo',\n",
       " 'region_Tōkyō-to Ōta-ku Kamata',\n",
       " 'region_Tōkyō-to Ōta-ku Kamiikedai',\n",
       " 'region_Ōsaka-fu Higashiōsaka-shi Aramotokita',\n",
       " 'region_Ōsaka-fu Neyagawa-shi Honmachi',\n",
       " 'region_Ōsaka-fu Sakai-shi Minamikawaramachi',\n",
       " 'region_Ōsaka-fu Suita-shi Izumichō',\n",
       " 'region_Ōsaka-fu Ōsaka-shi Fuminosato',\n",
       " 'region_Ōsaka-fu Ōsaka-shi Kyōmachibori',\n",
       " 'region_Ōsaka-fu Ōsaka-shi Kyūtarōmachi',\n",
       " 'region_Ōsaka-fu Ōsaka-shi Nakanochō',\n",
       " 'region_Ōsaka-fu Ōsaka-shi Nanbasennichimae',\n",
       " 'region_Ōsaka-fu Ōsaka-shi Shinmachi',\n",
       " 'region_Ōsaka-fu Ōsaka-shi Ōgimachi',\n",
       " 'region_Ōsaka-fu Ōsaka-shi Ōhiraki']"
      ]
     },
     "execution_count": 16,
     "metadata": {},
     "output_type": "execute_result"
    }
   ],
   "source": [
    "list(df)"
   ]
  },
  {
   "cell_type": "markdown",
   "metadata": {},
   "source": [
    "# Are the number of daily visitors and daily temperature related?"
   ]
  },
  {
   "cell_type": "code",
   "execution_count": 328,
   "metadata": {},
   "outputs": [
    {
     "data": {
      "image/png": "[encoded data removed]",
      "text/plain": [
       "<Figure size 432x288 with 1 Axes>"
      ]
     },
     "metadata": {},
     "output_type": "display_data"
    }
   ],
   "source": [
    "plt.scatter(df.avg_temperature, df.visitors_recode)\n",
    "plt.xlabel('Daily Average Temperature')\n",
    "plt.ylabel('Daily Visitors')\n",
    "plt.show()"
   ]
  },
  {
   "cell_type": "code",
   "execution_count": 341,
   "metadata": {},
   "outputs": [
    {
     "name": "stdout",
     "output_type": "stream",
     "text": [
      "                            OLS Regression Results                            \n",
      "==============================================================================\n",
      "Dep. Variable:            ln_visitors   R-squared:                       0.000\n",
      "Model:                            OLS   Adj. R-squared:                  0.000\n",
      "Method:                 Least Squares   F-statistic:                     1.940\n",
      "Date:                Tue, 25 Dec 2018   Prob (F-statistic):              0.164\n",
      "Time:                        20:43:36   Log-Likelihood:            -4.8521e+05\n",
      "No. Observations:              296279   AIC:                         9.704e+05\n",
      "Df Residuals:                  296277   BIC:                         9.704e+05\n",
      "Df Model:                           1                                         \n",
      "Covariance Type:            hac-panel                                         \n",
      "===================================================================================\n",
      "                      coef    std err          t      P>|t|      [0.025      0.975]\n",
      "-----------------------------------------------------------------------------------\n",
      "avg_temperature     0.0004      0.000      1.393      0.164      -0.000       0.001\n",
      "const               2.3787      0.005    519.155      0.000       2.370       2.388\n",
      "==============================================================================\n",
      "Omnibus:                    27575.062   Durbin-Watson:                   1.210\n",
      "Prob(Omnibus):                  0.000   Jarque-Bera (JB):            31441.775\n",
      "Skew:                          -0.763   Prob(JB):                         0.00\n",
      "Kurtosis:                       2.536   Cond. No.                         34.0\n",
      "==============================================================================\n",
      "\n",
      "Warnings:\n",
      "[1] Standard Errors are robust tocluster correlation (hac-panel)\n",
      "The p-value of the coefficient is not statistically significant.\n"
     ]
    }
   ],
   "source": [
    "df = df.sort_values(['air_store_id','visit_date'])\n",
    "xa = df[['avg_temperature','const']]\n",
    "ya = df['ln_visitors']\n",
    "moda = sm.OLS(ya,xa)\n",
    "fita = moda.fit()\n",
    "fita = fita.get_robustcov_results(cov_type='hac-panel', groups = df['air_store_id'], time = df['visit_date'], maxlags=0)\n",
    "print(fita.summary())\n",
    "print('The p-value of the coefficient is not statistically significant.')"
   ]
  },
  {
   "cell_type": "markdown",
   "metadata": {},
   "source": [
    "# Are the number of daily visitors and daily precipitation related?"
   ]
  },
  {
   "cell_type": "code",
   "execution_count": 333,
   "metadata": {},
   "outputs": [
    {
     "data": {
      "image/png": "[encoded data removed]",
      "text/plain": [
       "<Figure size 432x288 with 1 Axes>"
      ]
     },
     "metadata": {},
     "output_type": "display_data"
    }
   ],
   "source": [
    "plt.scatter(df.precipitation,df.visitors_recode)\n",
    "plt.xlabel('Daily Precipitation')\n",
    "plt.ylabel('Daily Visitors')\n",
    "plt.show()"
   ]
  },
  {
   "cell_type": "code",
   "execution_count": 338,
   "metadata": {},
   "outputs": [
    {
     "name": "stdout",
     "output_type": "stream",
     "text": [
      "                            OLS Regression Results                            \n",
      "==============================================================================\n",
      "Dep. Variable:            ln_visitors   R-squared:                       0.001\n",
      "Model:                            OLS   Adj. R-squared:                  0.001\n",
      "Method:                 Least Squares   F-statistic:                     303.3\n",
      "Date:                Tue, 25 Dec 2018   Prob (F-statistic):           4.09e-58\n",
      "Time:                        01:59:10   Log-Likelihood:            -4.8506e+05\n",
      "No. Observations:              296279   AIC:                         9.701e+05\n",
      "Df Residuals:                  296277   BIC:                         9.702e+05\n",
      "Df Model:                           1                                         \n",
      "Covariance Type:            hac-panel                                         \n",
      "=================================================================================\n",
      "                    coef    std err          t      P>|t|      [0.025      0.975]\n",
      "---------------------------------------------------------------------------------\n",
      "precipitation    -0.0030      0.000    -17.415      0.000      -0.003      -0.003\n",
      "const             2.3981      0.002    987.039      0.000       2.393       2.403\n",
      "==============================================================================\n",
      "Omnibus:                    27555.799   Durbin-Watson:                   1.210\n",
      "Prob(Omnibus):                  0.000   Jarque-Bera (JB):            31540.988\n",
      "Skew:                          -0.765   Prob(JB):                         0.00\n",
      "Kurtosis:                       2.540   Cond. No.                         14.7\n",
      "==============================================================================\n",
      "\n",
      "Warnings:\n",
      "[1] Standard Errors are robust tocluster correlation (hac-panel)\n",
      "Although the p-value of the coefficient is statistically significant, the extremely small R-squared and coefficient estimates suggest that the model is of little practical value.\n"
     ]
    }
   ],
   "source": [
    "df = df.sort_values(['air_store_id','visit_date'])\n",
    "xb = df[['precipitation','const']]\n",
    "yb = df['ln_visitors']\n",
    "modb = sm.OLS(yb,xb)\n",
    "fitb = modb.fit()\n",
    "fitb = fitb.get_robustcov_results(cov_type='hac-panel', groups = df['air_store_id'], time = df['visit_date'], maxlags=0)\n",
    "print(fitb.summary())\n",
    "print('Although the p-value of the coefficient is statistically significant, the extremely small R-squared and coefficient estimates suggest that the model is of little practical value.')"
   ]
  },
  {
   "cell_type": "markdown",
   "metadata": {},
   "source": [
    "# Are the number of daily visitors and average daily hours of sunlight related?"
   ]
  },
  {
   "cell_type": "code",
   "execution_count": 339,
   "metadata": {},
   "outputs": [
    {
     "data": {
      "image/png": "[encoded data removed]",
      "text/plain": [
       "<Figure size 432x288 with 1 Axes>"
      ]
     },
     "metadata": {},
     "output_type": "display_data"
    },
    {
     "name": "stdout",
     "output_type": "stream",
     "text": [
      "There does not appear to be a relationship between number of visitors and hours of sunlight.\n"
     ]
    }
   ],
   "source": [
    "plt.scatter(df.hours_sunlight,df.visitors_recode)\n",
    "plt.xlabel('Daily Hours of Sunlight')\n",
    "plt.ylabel('Daily Visitors')\n",
    "plt.show()\n",
    "print('There does not appear to be a relationship between number of visitors and hours of sunlight.')"
   ]
  },
  {
   "cell_type": "code",
   "execution_count": 340,
   "metadata": {},
   "outputs": [
    {
     "name": "stdout",
     "output_type": "stream",
     "text": [
      "                            OLS Regression Results                            \n",
      "==============================================================================\n",
      "Dep. Variable:            ln_visitors   R-squared:                       0.001\n",
      "Model:                            OLS   Adj. R-squared:                  0.001\n",
      "Method:                 Least Squares   F-statistic:                     152.8\n",
      "Date:                Tue, 25 Dec 2018   Prob (F-statistic):           2.48e-32\n",
      "Time:                        01:59:18   Log-Likelihood:            -4.8514e+05\n",
      "No. Observations:              296279   AIC:                         9.703e+05\n",
      "Df Residuals:                  296277   BIC:                         9.703e+05\n",
      "Df Model:                           1                                         \n",
      "Covariance Type:            hac-panel                                         \n",
      "==================================================================================\n",
      "                     coef    std err          t      P>|t|      [0.025      0.975]\n",
      "----------------------------------------------------------------------------------\n",
      "hours_sunlight     0.0072      0.001     12.361      0.000       0.006       0.008\n",
      "const              2.3460      0.004    615.847      0.000       2.339       2.354\n",
      "==============================================================================\n",
      "Omnibus:                    27587.809   Durbin-Watson:                   1.210\n",
      "Prob(Omnibus):                  0.000   Jarque-Bera (JB):            31540.751\n",
      "Skew:                          -0.765   Prob(JB):                         0.00\n",
      "Kurtosis:                       2.539   Cond. No.                         11.3\n",
      "==============================================================================\n",
      "\n",
      "Warnings:\n",
      "[1] Standard Errors are robust tocluster correlation (hac-panel)\n",
      "Although the p-value of the coefficient is statistically significant, the extremely small R-squared and coefficient estimates suggest that the model is of little practical value.\n"
     ]
    }
   ],
   "source": [
    "df = df.sort_values(['air_store_id','visit_date'])\n",
    "xc = df[['hours_sunlight','const']]\n",
    "yc = df['ln_visitors']\n",
    "modc = sm.OLS(yc,xc)\n",
    "fitc = modc.fit()\n",
    "fitc = fitc.get_robustcov_results(cov_type='hac-panel', groups = df['air_store_id'], time = df['visit_date'], maxlags=0)\n",
    "print(fitc.summary())\n",
    "print('Although the p-value of the coefficient is statistically significant, the extremely small R-squared and coefficient estimates suggest that the model is of little practical value.')"
   ]
  }
 ],
 "metadata": {
  "kernelspec": {
   "display_name": "Python 3",
   "language": "python",
   "name": "python3"
  },
  "language_info": {
   "codemirror_mode": {
    "name": "ipython",
    "version": 3
   },
   "file_extension": ".py",
   "mimetype": "text/x-python",
   "name": "python",
   "nbconvert_exporter": "python",
   "pygments_lexer": "ipython3",
   "version": "3.6.5"
  }
 },
 "nbformat": 4,
 "nbformat_minor": 2
}
