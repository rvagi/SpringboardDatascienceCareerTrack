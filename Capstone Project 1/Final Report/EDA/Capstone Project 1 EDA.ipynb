{
 "cells": [
  {
   "cell_type": "markdown",
   "metadata": {},
   "source": [
    "# Capstone Project 1: EDA\n",
    "\n",
    "This notebook contains the code for conducting EDA on the dataset for my first capstone project.  The data used here was pulled from Kaggle's API and was wrangled using code contained in a separate notbook.  The code for data wrangling can be found in this folder's parent directory under \\Data Wrangling\\Capstone Project 1 Data Wrangling.ipynb.  The data used here have been cleaned and are read from a csv file that is stored in this directory.  \n",
    "\n",
    "In the following EDA, I ask several questions to gain a better understanding of the data and to place it within the context of the business problem contained in the project description.  These questions are stated in bold above the corresponding analyses."
   ]
  },
  {
   "cell_type": "code",
   "execution_count": 2,
   "metadata": {},
   "outputs": [],
   "source": [
    "#Import packages\n",
    "\n",
    "import pandas as pd\n",
    "from matplotlib import pyplot as plt\n",
    "import seaborn as sbn\n",
    "import numpy as np\n",
    "from scipy import stats as sts\n",
    "import statsmodels.api as sm\n",
    "import math"
   ]
  },
  {
   "cell_type": "code",
   "execution_count": 3,
   "metadata": {},
   "outputs": [
    {
     "data": {
      "text/html": [
       "<div>\n",
       "<style scoped>\n",
       "    .dataframe tbody tr th:only-of-type {\n",
       "        vertical-align: middle;\n",
       "    }\n",
       "\n",
       "    .dataframe tbody tr th {\n",
       "        vertical-align: top;\n",
       "    }\n",
       "\n",
       "    .dataframe thead th {\n",
       "        text-align: right;\n",
       "    }\n",
       "</style>\n",
       "<table border=\"1\" class=\"dataframe\">\n",
       "  <thead>\n",
       "    <tr style=\"text-align: right;\">\n",
       "      <th></th>\n",
       "      <th>air_store_id</th>\n",
       "      <th>visit_date</th>\n",
       "      <th>visitors</th>\n",
       "      <th>air_genre_name</th>\n",
       "      <th>air_area_name</th>\n",
       "      <th>latitude</th>\n",
       "      <th>longitude</th>\n",
       "      <th>day_of_week</th>\n",
       "      <th>holiday_flg</th>\n",
       "      <th>station_id</th>\n",
       "      <th>...</th>\n",
       "      <th>region_Ōsaka-fu Suita-shi Izumichō</th>\n",
       "      <th>region_Ōsaka-fu Ōsaka-shi Fuminosato</th>\n",
       "      <th>region_Ōsaka-fu Ōsaka-shi Kyōmachibori</th>\n",
       "      <th>region_Ōsaka-fu Ōsaka-shi Kyūtarōmachi</th>\n",
       "      <th>region_Ōsaka-fu Ōsaka-shi Nakanochō</th>\n",
       "      <th>region_Ōsaka-fu Ōsaka-shi Nanbasennichimae</th>\n",
       "      <th>region_Ōsaka-fu Ōsaka-shi Shinmachi</th>\n",
       "      <th>region_Ōsaka-fu Ōsaka-shi Ōgimachi</th>\n",
       "      <th>region_Ōsaka-fu Ōsaka-shi Ōhiraki</th>\n",
       "      <th>competition</th>\n",
       "    </tr>\n",
       "  </thead>\n",
       "  <tbody>\n",
       "    <tr>\n",
       "      <th>0</th>\n",
       "      <td>air_00a91d42b08b08d9</td>\n",
       "      <td>2016-07-01</td>\n",
       "      <td>35</td>\n",
       "      <td>Italian/French</td>\n",
       "      <td>Tōkyō-to Chiyoda-ku Kudanminami</td>\n",
       "      <td>35.694003</td>\n",
       "      <td>139.753595</td>\n",
       "      <td>Friday</td>\n",
       "      <td>0</td>\n",
       "      <td>tokyo__tokyo-kana__tonokyo</td>\n",
       "      <td>...</td>\n",
       "      <td>0</td>\n",
       "      <td>0</td>\n",
       "      <td>0</td>\n",
       "      <td>0</td>\n",
       "      <td>0</td>\n",
       "      <td>0</td>\n",
       "      <td>0</td>\n",
       "      <td>0</td>\n",
       "      <td>0</td>\n",
       "      <td>18</td>\n",
       "    </tr>\n",
       "    <tr>\n",
       "      <th>1</th>\n",
       "      <td>air_00a91d42b08b08d9</td>\n",
       "      <td>2016-07-02</td>\n",
       "      <td>9</td>\n",
       "      <td>Italian/French</td>\n",
       "      <td>Tōkyō-to Chiyoda-ku Kudanminami</td>\n",
       "      <td>35.694003</td>\n",
       "      <td>139.753595</td>\n",
       "      <td>Saturday</td>\n",
       "      <td>0</td>\n",
       "      <td>tokyo__tokyo-kana__tonokyo</td>\n",
       "      <td>...</td>\n",
       "      <td>0</td>\n",
       "      <td>0</td>\n",
       "      <td>0</td>\n",
       "      <td>0</td>\n",
       "      <td>0</td>\n",
       "      <td>0</td>\n",
       "      <td>0</td>\n",
       "      <td>0</td>\n",
       "      <td>0</td>\n",
       "      <td>18</td>\n",
       "    </tr>\n",
       "    <tr>\n",
       "      <th>2</th>\n",
       "      <td>air_00a91d42b08b08d9</td>\n",
       "      <td>2016-07-03</td>\n",
       "      <td>0</td>\n",
       "      <td>Italian/French</td>\n",
       "      <td>Tōkyō-to Chiyoda-ku Kudanminami</td>\n",
       "      <td>35.694003</td>\n",
       "      <td>139.753595</td>\n",
       "      <td>Sunday</td>\n",
       "      <td>0</td>\n",
       "      <td>tokyo__tokyo-kana__tonokyo</td>\n",
       "      <td>...</td>\n",
       "      <td>0</td>\n",
       "      <td>0</td>\n",
       "      <td>0</td>\n",
       "      <td>0</td>\n",
       "      <td>0</td>\n",
       "      <td>0</td>\n",
       "      <td>0</td>\n",
       "      <td>0</td>\n",
       "      <td>0</td>\n",
       "      <td>18</td>\n",
       "    </tr>\n",
       "    <tr>\n",
       "      <th>3</th>\n",
       "      <td>air_00a91d42b08b08d9</td>\n",
       "      <td>2016-07-04</td>\n",
       "      <td>20</td>\n",
       "      <td>Italian/French</td>\n",
       "      <td>Tōkyō-to Chiyoda-ku Kudanminami</td>\n",
       "      <td>35.694003</td>\n",
       "      <td>139.753595</td>\n",
       "      <td>Monday</td>\n",
       "      <td>0</td>\n",
       "      <td>tokyo__tokyo-kana__tonokyo</td>\n",
       "      <td>...</td>\n",
       "      <td>0</td>\n",
       "      <td>0</td>\n",
       "      <td>0</td>\n",
       "      <td>0</td>\n",
       "      <td>0</td>\n",
       "      <td>0</td>\n",
       "      <td>0</td>\n",
       "      <td>0</td>\n",
       "      <td>0</td>\n",
       "      <td>19</td>\n",
       "    </tr>\n",
       "    <tr>\n",
       "      <th>4</th>\n",
       "      <td>air_00a91d42b08b08d9</td>\n",
       "      <td>2016-07-05</td>\n",
       "      <td>25</td>\n",
       "      <td>Italian/French</td>\n",
       "      <td>Tōkyō-to Chiyoda-ku Kudanminami</td>\n",
       "      <td>35.694003</td>\n",
       "      <td>139.753595</td>\n",
       "      <td>Tuesday</td>\n",
       "      <td>0</td>\n",
       "      <td>tokyo__tokyo-kana__tonokyo</td>\n",
       "      <td>...</td>\n",
       "      <td>0</td>\n",
       "      <td>0</td>\n",
       "      <td>0</td>\n",
       "      <td>0</td>\n",
       "      <td>0</td>\n",
       "      <td>0</td>\n",
       "      <td>0</td>\n",
       "      <td>0</td>\n",
       "      <td>0</td>\n",
       "      <td>19</td>\n",
       "    </tr>\n",
       "  </tbody>\n",
       "</table>\n",
       "<p>5 rows × 186 columns</p>\n",
       "</div>"
      ],
      "text/plain": [
       "           air_store_id  visit_date  visitors  air_genre_name  \\\n",
       "0  air_00a91d42b08b08d9  2016-07-01        35  Italian/French   \n",
       "1  air_00a91d42b08b08d9  2016-07-02         9  Italian/French   \n",
       "2  air_00a91d42b08b08d9  2016-07-03         0  Italian/French   \n",
       "3  air_00a91d42b08b08d9  2016-07-04        20  Italian/French   \n",
       "4  air_00a91d42b08b08d9  2016-07-05        25  Italian/French   \n",
       "\n",
       "                     air_area_name   latitude   longitude day_of_week  \\\n",
       "0  Tōkyō-to Chiyoda-ku Kudanminami  35.694003  139.753595      Friday   \n",
       "1  Tōkyō-to Chiyoda-ku Kudanminami  35.694003  139.753595    Saturday   \n",
       "2  Tōkyō-to Chiyoda-ku Kudanminami  35.694003  139.753595      Sunday   \n",
       "3  Tōkyō-to Chiyoda-ku Kudanminami  35.694003  139.753595      Monday   \n",
       "4  Tōkyō-to Chiyoda-ku Kudanminami  35.694003  139.753595     Tuesday   \n",
       "\n",
       "   holiday_flg                  station_id     ...       \\\n",
       "0            0  tokyo__tokyo-kana__tonokyo     ...        \n",
       "1            0  tokyo__tokyo-kana__tonokyo     ...        \n",
       "2            0  tokyo__tokyo-kana__tonokyo     ...        \n",
       "3            0  tokyo__tokyo-kana__tonokyo     ...        \n",
       "4            0  tokyo__tokyo-kana__tonokyo     ...        \n",
       "\n",
       "   region_Ōsaka-fu Suita-shi Izumichō  region_Ōsaka-fu Ōsaka-shi Fuminosato  \\\n",
       "0                                   0                                     0   \n",
       "1                                   0                                     0   \n",
       "2                                   0                                     0   \n",
       "3                                   0                                     0   \n",
       "4                                   0                                     0   \n",
       "\n",
       "   region_Ōsaka-fu Ōsaka-shi Kyōmachibori  \\\n",
       "0                                       0   \n",
       "1                                       0   \n",
       "2                                       0   \n",
       "3                                       0   \n",
       "4                                       0   \n",
       "\n",
       "   region_Ōsaka-fu Ōsaka-shi Kyūtarōmachi  \\\n",
       "0                                       0   \n",
       "1                                       0   \n",
       "2                                       0   \n",
       "3                                       0   \n",
       "4                                       0   \n",
       "\n",
       "   region_Ōsaka-fu Ōsaka-shi Nakanochō  \\\n",
       "0                                    0   \n",
       "1                                    0   \n",
       "2                                    0   \n",
       "3                                    0   \n",
       "4                                    0   \n",
       "\n",
       "   region_Ōsaka-fu Ōsaka-shi Nanbasennichimae  \\\n",
       "0                                           0   \n",
       "1                                           0   \n",
       "2                                           0   \n",
       "3                                           0   \n",
       "4                                           0   \n",
       "\n",
       "   region_Ōsaka-fu Ōsaka-shi Shinmachi  region_Ōsaka-fu Ōsaka-shi Ōgimachi  \\\n",
       "0                                    0                                   0   \n",
       "1                                    0                                   0   \n",
       "2                                    0                                   0   \n",
       "3                                    0                                   0   \n",
       "4                                    0                                   0   \n",
       "\n",
       "   region_Ōsaka-fu Ōsaka-shi Ōhiraki  competition  \n",
       "0                                  0           18  \n",
       "1                                  0           18  \n",
       "2                                  0           18  \n",
       "3                                  0           19  \n",
       "4                                  0           19  \n",
       "\n",
       "[5 rows x 186 columns]"
      ]
     },
     "execution_count": 3,
     "metadata": {},
     "output_type": "execute_result"
    }
   ],
   "source": [
    "#Begin by reading in data\n",
    "\n",
    "df = pd.read_csv('C:/Users/robva/Dropbox (Personal)/Springboard Data Science Course/Capstone Project 1/EDA/file_for_analysis_1.csv')\n",
    "df = df.drop('Unnamed: 0', axis=1)\n",
    "df.head()"
   ]
  },
  {
   "cell_type": "markdown",
   "metadata": {},
   "source": [
    "# How many observations are there?"
   ]
  },
  {
   "cell_type": "code",
   "execution_count": 4,
   "metadata": {},
   "outputs": [
    {
     "name": "stdout",
     "output_type": "stream",
     "text": [
      "There are 296279 unique observations.\n"
     ]
    }
   ],
   "source": [
    "n = df.air_store_id.count()\n",
    "print(\"There are\", n, \"unique observations.\")"
   ]
  },
  {
   "cell_type": "markdown",
   "metadata": {},
   "source": [
    "# What dates do the dataset cover?"
   ]
  },
  {
   "cell_type": "code",
   "execution_count": 5,
   "metadata": {},
   "outputs": [
    {
     "name": "stdout",
     "output_type": "stream",
     "text": [
      "The data include observations for every day between Friday , 2016-01-01 and Saturday , 2017-04-22 .\n"
     ]
    }
   ],
   "source": [
    "df = df.sort_values(by = 'visit_date', ascending = True)\n",
    "beginning = df.visit_date.min()\n",
    "first_day = df.iloc[0,7]\n",
    "last_day = df.iloc[-1,7]\n",
    "end = df.visit_date.max()\n",
    "print(\"The data include observations for every day between\", first_day,\",\",beginning, \"and\",last_day,\",\", end,\".\")"
   ]
  },
  {
   "cell_type": "markdown",
   "metadata": {},
   "source": [
    "# How many restaurants are included in the dataset?"
   ]
  },
  {
   "cell_type": "code",
   "execution_count": 6,
   "metadata": {},
   "outputs": [
    {
     "name": "stdout",
     "output_type": "stream",
     "text": [
      "There are 829 restaurants in the dataset.\n"
     ]
    }
   ],
   "source": [
    "n_restaurant = len(df.groupby('air_store_id'))\n",
    "print(\"There are\",n_restaurant,\"restaurants in the dataset.\")"
   ]
  },
  {
   "cell_type": "markdown",
   "metadata": {},
   "source": [
    "# How many stores are in each geographic region?\n"
   ]
  },
  {
   "cell_type": "code",
   "execution_count": 7,
   "metadata": {},
   "outputs": [
    {
     "data": {
      "text/html": [
       "<div>\n",
       "<style scoped>\n",
       "    .dataframe tbody tr th:only-of-type {\n",
       "        vertical-align: middle;\n",
       "    }\n",
       "\n",
       "    .dataframe tbody tr th {\n",
       "        vertical-align: top;\n",
       "    }\n",
       "\n",
       "    .dataframe thead th {\n",
       "        text-align: right;\n",
       "    }\n",
       "</style>\n",
       "<table border=\"1\" class=\"dataframe\">\n",
       "  <thead>\n",
       "    <tr style=\"text-align: right;\">\n",
       "      <th></th>\n",
       "      <th>air_store_id</th>\n",
       "    </tr>\n",
       "    <tr>\n",
       "      <th>air_area_name</th>\n",
       "      <th></th>\n",
       "    </tr>\n",
       "  </thead>\n",
       "  <tbody>\n",
       "    <tr>\n",
       "      <th>Fukuoka-ken Fukuoka-shi Daimyō</th>\n",
       "      <td>64</td>\n",
       "    </tr>\n",
       "    <tr>\n",
       "      <th>Tōkyō-to Shibuya-ku Shibuya</th>\n",
       "      <td>58</td>\n",
       "    </tr>\n",
       "    <tr>\n",
       "      <th>Tōkyō-to Minato-ku Shibakōen</th>\n",
       "      <td>51</td>\n",
       "    </tr>\n",
       "    <tr>\n",
       "      <th>Tōkyō-to Shinjuku-ku Kabukichō</th>\n",
       "      <td>39</td>\n",
       "    </tr>\n",
       "    <tr>\n",
       "      <th>Tōkyō-to Setagaya-ku Setagaya</th>\n",
       "      <td>30</td>\n",
       "    </tr>\n",
       "    <tr>\n",
       "      <th>Tōkyō-to Chūō-ku Tsukiji</th>\n",
       "      <td>29</td>\n",
       "    </tr>\n",
       "    <tr>\n",
       "      <th>Ōsaka-fu Ōsaka-shi Ōgimachi</th>\n",
       "      <td>25</td>\n",
       "    </tr>\n",
       "    <tr>\n",
       "      <th>Hiroshima-ken Hiroshima-shi Kokutaijimachi</th>\n",
       "      <td>23</td>\n",
       "    </tr>\n",
       "    <tr>\n",
       "      <th>Tōkyō-to Meguro-ku Kamimeguro</th>\n",
       "      <td>22</td>\n",
       "    </tr>\n",
       "    <tr>\n",
       "      <th>Hokkaidō Sapporo-shi Minami 3 Jōnishi</th>\n",
       "      <td>21</td>\n",
       "    </tr>\n",
       "  </tbody>\n",
       "</table>\n",
       "</div>"
      ],
      "text/plain": [
       "                                            air_store_id\n",
       "air_area_name                                           \n",
       "Fukuoka-ken Fukuoka-shi Daimyō                        64\n",
       "Tōkyō-to Shibuya-ku Shibuya                           58\n",
       "Tōkyō-to Minato-ku Shibakōen                          51\n",
       "Tōkyō-to Shinjuku-ku Kabukichō                        39\n",
       "Tōkyō-to Setagaya-ku Setagaya                         30\n",
       "Tōkyō-to Chūō-ku Tsukiji                              29\n",
       "Ōsaka-fu Ōsaka-shi Ōgimachi                           25\n",
       "Hiroshima-ken Hiroshima-shi Kokutaijimachi            23\n",
       "Tōkyō-to Meguro-ku Kamimeguro                         22\n",
       "Hokkaidō Sapporo-shi Minami 3 Jōnishi                 21"
      ]
     },
     "execution_count": 7,
     "metadata": {},
     "output_type": "execute_result"
    }
   ],
   "source": [
    "stores_by_region = df.drop_duplicates(['air_area_name','air_store_id'], keep='first')\n",
    "stores_by_region = stores_by_region.groupby(by='air_area_name').count()\n",
    "stores_by_region = stores_by_region['air_store_id'].to_frame().sort_values(by = 'air_store_id', ascending=False)\n",
    "pd.set_option('display.max_rows', 103)\n",
    "stores_by_region.head(10)"
   ]
  },
  {
   "cell_type": "markdown",
   "metadata": {},
   "source": [
    "# How many restaurants are in each 'genre'?"
   ]
  },
  {
   "cell_type": "code",
   "execution_count": 8,
   "metadata": {},
   "outputs": [
    {
     "data": {
      "image/png": "[encoded data removed]",
      "text/plain": [
       "<Figure size 432x288 with 1 Axes>"
      ]
     },
     "metadata": {},
     "output_type": "display_data"
    },
    {
     "data": {
      "text/plain": [
       "<Figure size 432x288 with 0 Axes>"
      ]
     },
     "metadata": {},
     "output_type": "display_data"
    }
   ],
   "source": [
    "stores_by_type = df.drop_duplicates(['air_genre_name','air_store_id'], keep='first')\n",
    "stores_by_type = stores_by_type.groupby(by='air_genre_name').count()\n",
    "stores_by_type = stores_by_type['air_store_id'].to_frame().sort_values(by = 'air_store_id', ascending=True)\n",
    "stores_by_type = stores_by_type.rename({'air_store_id':'Count'})\n",
    "stores_by_type.plot(kind='barh')\n",
    "plt.ylabel('Restaurant Type')\n",
    "plt.show()\n",
    "plt.gcf().clear()"
   ]
  },
  {
   "cell_type": "markdown",
   "metadata": {},
   "source": [
    "# What is the distribution of reservations?"
   ]
  },
  {
   "cell_type": "code",
   "execution_count": 9,
   "metadata": {},
   "outputs": [
    {
     "data": {
      "image/png": "[encoded data removed]",
      "text/plain": [
       "<Figure size 432x288 with 1 Axes>"
      ]
     },
     "metadata": {},
     "output_type": "display_data"
    }
   ],
   "source": [
    "plt.hist(df.visitors_recode, bins = 400)\n",
    "plt.ylim(df.visitors_recode.min(),10000)\n",
    "plt.xlabel('Number of Daily Visitors')\n",
    "plt.ylabel('Number of Observations')\n",
    "plt.show()"
   ]
  },
  {
   "cell_type": "code",
   "execution_count": 10,
   "metadata": {},
   "outputs": [
    {
     "name": "stdout",
     "output_type": "stream",
     "text": [
      "Median Visitors: 14.0\n",
      "count    296279.000000\n",
      "mean         17.778167\n",
      "std          16.607249\n",
      "min           0.000000\n",
      "25%           5.000000\n",
      "50%          14.000000\n",
      "75%          26.000000\n",
      "max         199.855943\n",
      "Name: visitors_recode, dtype: float64\n"
     ]
    }
   ],
   "source": [
    "median = df.visitors_recode.median()\n",
    "print('Median Visitors:',median)\n",
    "print(df.visitors_recode.describe())"
   ]
  },
  {
   "cell_type": "markdown",
   "metadata": {},
   "source": [
    "# How many observations have zero visitors?"
   ]
  },
  {
   "cell_type": "code",
   "execution_count": 11,
   "metadata": {},
   "outputs": [
    {
     "name": "stdout",
     "output_type": "stream",
     "text": [
      "There are many observations with 0 visitors ( 44171 ).  This is  14.908582788520281 % of the sample.\n"
     ]
    }
   ],
   "source": [
    "abnormal_freq = df.groupby('visitors_recode').count()\n",
    "abnormal_freq = abnormal_freq.sort_values(by = 'air_store_id', ascending = False)\n",
    "zeros = abnormal_freq.iloc[0,0]\n",
    "pct_zeros = (zeros/len(df['visitors_recode']))*100\n",
    "print('There are many observations with 0 visitors (', zeros,').  This is ', pct_zeros,'% of the sample.')"
   ]
  },
  {
   "cell_type": "markdown",
   "metadata": {},
   "source": [
    "# How do average reservations change over time?"
   ]
  },
  {
   "cell_type": "code",
   "execution_count": 12,
   "metadata": {},
   "outputs": [
    {
     "data": {
      "image/png": "[encoded data removed]",
      "text/plain": [
       "<Figure size 432x288 with 1 Axes>"
      ]
     },
     "metadata": {},
     "output_type": "display_data"
    },
    {
     "name": "stdout",
     "output_type": "stream",
     "text": [
      "There does not appear to be an overall trend. However, there are clearly seasonal trends within each month.\n",
      "There also appears to be some slight within-year trends. I will need to investigate the anomaly in January 2017 further.\n"
     ]
    }
   ],
   "source": [
    "df_dtix = df.set_index(pd.DatetimeIndex(df['visit_date']))\n",
    "daily = df_dtix.resample('D').mean()\n",
    "daily.visitors_recode.plot()\n",
    "plt.title('Average Daily Visitors')\n",
    "plt.show()\n",
    "print('There does not appear to be an overall trend. However, there are clearly seasonal trends within each month.')  \n",
    "print('There also appears to be some slight within-year trends. I will need to investigate the anomaly in January 2017 further.')\n"
   ]
  },
  {
   "cell_type": "code",
   "execution_count": 13,
   "metadata": {},
   "outputs": [
    {
     "data": {
      "image/png": "[encoded data removed]",
      "text/plain": [
       "<Figure size 432x288 with 1 Axes>"
      ]
     },
     "metadata": {},
     "output_type": "display_data"
    },
    {
     "name": "stdout",
     "output_type": "stream",
     "text": [
      "Looking at this trend by week provides a clearer picture of the seasonal variation.\n",
      "It looks as if the number of visitors is highest April through July, December, and January.\n",
      "The months betwen August through November seem to slow down for restaurants.\n"
     ]
    }
   ],
   "source": [
    "df_dtix = df.set_index(pd.DatetimeIndex(df['visit_date']))\n",
    "weekly = df_dtix.resample('W').mean()\n",
    "weekly.visitors_recode.plot()\n",
    "plt.title('Average Weekly Visitors')\n",
    "plt.show()\n",
    "print('Looking at this trend by week provides a clearer picture of the seasonal variation.')\n",
    "print('It looks as if the number of visitors is highest April through July, December, and January.')\n",
    "print('The months betwen August through November seem to slow down for restaurants.')"
   ]
  },
  {
   "cell_type": "markdown",
   "metadata": {},
   "source": [
    "# Does the number of visitors change by day of the week?"
   ]
  },
  {
   "cell_type": "code",
   "execution_count": 14,
   "metadata": {},
   "outputs": [
    {
     "data": {
      "image/png": "[encoded data removed]",
      "text/plain": [
       "<Figure size 432x288 with 1 Axes>"
      ]
     },
     "metadata": {},
     "output_type": "display_data"
    },
    {
     "name": "stdout",
     "output_type": "stream",
     "text": [
      "Monday is the slowest day of the week. The average number of visitors increases steadily throughout the week\n",
      "and drops sharply on Sunday.\n"
     ]
    }
   ],
   "source": [
    "ordered_days = ['Monday', 'Tuesday', 'Wednesday', 'Thursday', 'Friday', 'Saturday', 'Sunday']\n",
    "by_weekday = df.groupby(df.day_of_week).mean().reindex(ordered_days)\n",
    "by_weekday.visitors_recode.plot()\n",
    "plt.xticks(np.arange(7),('Mon', 'Tues', 'Wed', 'Thurs', 'Fri', 'Sat', 'Sun'))\n",
    "plt.title('Average Visitors by Day of the Week')\n",
    "plt.show()\n",
    "print('Monday is the slowest day of the week. The average number of visitors increases steadily throughout the week')\n",
    "print('and drops sharply on Sunday.')"
   ]
  },
  {
   "cell_type": "markdown",
   "metadata": {},
   "source": [
    "# Which variables are significantly related to the number of visitors on a given day?"
   ]
  },
  {
   "cell_type": "code",
   "execution_count": 71,
   "metadata": {
    "scrolled": true
   },
   "outputs": [
    {
     "name": "stdout",
     "output_type": "stream",
     "text": [
      "visitors_recode       1.000000\n",
      "avg_temperature      -0.005168\n",
      "high_temperature     -0.002688\n",
      "low_temperature      -0.010364\n",
      "precipitation        -0.040192\n",
      "hours_sunlight        0.036339\n",
      "day_of_month          0.028570\n",
      "rolling_mean          0.648924\n",
      "rolling_median        0.622436\n",
      "rolling_std           0.508848\n",
      "rolling_mean_lag      0.605290\n",
      "rolling_median_lag    0.580626\n",
      "rolling_std_lag       0.480565\n",
      "visitors_lag          0.644737\n",
      "competition          -0.025317\n",
      "Name: visitors_recode, dtype: float64\n"
     ]
    }
   ],
   "source": [
    "cont_vars = ['visitors_recode', 'avg_temperature', 'high_temperature', 'low_temperature', \n",
    "            'precipitation', 'hours_sunlight', 'day_of_month', 'rolling_mean', 'rolling_median',\n",
    "            'rolling_std', 'rolling_mean_lag', 'rolling_median_lag', 'rolling_std_lag', 'visitors_lag', 'competition']\n",
    "corr = pd.DataFrame(df[cont_vars].corr())\n",
    "corr = corr['visitors_recode']\n",
    "print(corr)\n"
   ]
  },
  {
   "cell_type": "code",
   "execution_count": 19,
   "metadata": {},
   "outputs": [
    {
     "name": "stdout",
     "output_type": "stream",
     "text": [
      "avg_temperature (-0.005168114190075428, 0.0049067938551924815)\n",
      "high_temperature (-0.002687746016948705, 0.14347356606366088)\n",
      "low_temperature (-0.010364451499255323, 1.6842248830092913e-08)\n",
      "precipitation (-0.04019170624742732, 3.5546784750381065e-106)\n",
      "hours_sunlight (0.0363387296733106, 3.9168027017470284e-87)\n",
      "day_of_month (0.028570339085871522, 1.4859147674822658e-54)\n",
      "rolling_mean_lag (0.605289533046973, 0.0)\n",
      "rolling_median_lag (0.5806263151388045, 0.0)\n",
      "rolling_std_lag (0.48056497323447456, 0.0)\n",
      "visitors_lag (0.6447368199601873, 0.0)\n",
      "competition (-0.025317393959594446, 3.2351249631532106e-43)\n"
     ]
    }
   ],
   "source": [
    "#Calculate formal tests for each correlation\n",
    "\n",
    "print('avg_temperature',sts.pearsonr(df['visitors_recode'], df['avg_temperature']))\n",
    "print('high_temperature',sts.pearsonr(df['visitors_recode'], df['high_temperature']))\n",
    "print('low_temperature',sts.pearsonr(df['visitors_recode'], df['low_temperature']))\n",
    "print('precipitation',sts.pearsonr(df['visitors_recode'], df['precipitation']))\n",
    "print('hours_sunlight',sts.pearsonr(df['visitors_recode'], df['hours_sunlight']))\n",
    "print('day_of_month',sts.pearsonr(df['visitors_recode'], df['day_of_month']))\n",
    "print('rolling_mean_lag',sts.pearsonr(df['visitors_recode'], df['rolling_mean_lag']))\n",
    "print('rolling_median_lag',sts.pearsonr(df['visitors_recode'], df['rolling_median_lag']))\n",
    "print('rolling_std_lag',sts.pearsonr(df['visitors_recode'], df['rolling_std_lag']))\n",
    "print('visitors_lag',sts.pearsonr(df['visitors_recode'], df['visitors_lag']))\n",
    "print('competition',sts.pearsonr(df['visitors_recode'], df['competition']))"
   ]
  },
  {
   "cell_type": "code",
   "execution_count": null,
   "metadata": {},
   "outputs": [],
   "source": []
  }
 ],
 "metadata": {
  "kernelspec": {
   "display_name": "Python 3",
   "language": "python",
   "name": "python3"
  },
  "language_info": {
   "codemirror_mode": {
    "name": "ipython",
    "version": 3
   },
   "file_extension": ".py",
   "mimetype": "text/x-python",
   "name": "python",
   "nbconvert_exporter": "python",
   "pygments_lexer": "ipython3",
   "version": "3.6.5"
  }
 },
 "nbformat": 4,
 "nbformat_minor": 2
}
