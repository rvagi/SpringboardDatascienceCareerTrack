{
 "cells": [
  {
   "cell_type": "markdown",
   "metadata": {},
   "source": [
    "# Capstone Project 1: EDA\n",
    "\n",
    "This notebook contains the code for conducting EDA on the data set for my first capstone project.  The data used here was pulled from Kaggle's API and was wrangled using code contained in a separate notbook.  The code for data wrangling can be found in this folder's parent directory under \\Data Wrangling\\Capstone Project 1 Data Wrangling.ipynb.  The data used here have been cleaned and are read from a csv file that is stored in this directory.  \n",
    "\n",
    "In the following EDA, I ask several questions to gain a better understanding of the data and to place it within the context of the business problem contained in the project description.  These questions are stated in bold above the corresponding analyses."
   ]
  },
  {
   "cell_type": "code",
   "execution_count": 314,
   "metadata": {},
   "outputs": [],
   "source": [
    "#Import packages\n",
    "\n",
    "import pandas as pd\n",
    "from matplotlib import pyplot as plt\n",
    "import seaborn as sbn\n",
    "import numpy as np\n",
    "from scipy import stats as sts\n",
    "import statsmodels.api as sm\n",
    "import math"
   ]
  },
  {
   "cell_type": "code",
   "execution_count": 315,
   "metadata": {},
   "outputs": [
    {
     "data": {
      "text/html": [
       "<div>\n",
       "<style scoped>\n",
       "    .dataframe tbody tr th:only-of-type {\n",
       "        vertical-align: middle;\n",
       "    }\n",
       "\n",
       "    .dataframe tbody tr th {\n",
       "        vertical-align: top;\n",
       "    }\n",
       "\n",
       "    .dataframe thead th {\n",
       "        text-align: right;\n",
       "    }\n",
       "</style>\n",
       "<table border=\"1\" class=\"dataframe\">\n",
       "  <thead>\n",
       "    <tr style=\"text-align: right;\">\n",
       "      <th></th>\n",
       "      <th>air_store_id</th>\n",
       "      <th>visit_date</th>\n",
       "      <th>visitors</th>\n",
       "      <th>air_genre_name</th>\n",
       "      <th>air_area_name</th>\n",
       "      <th>latitude</th>\n",
       "      <th>longitude</th>\n",
       "      <th>day_of_week</th>\n",
       "      <th>holiday_flg</th>\n",
       "      <th>station_id</th>\n",
       "      <th>...</th>\n",
       "      <th>low_temperature</th>\n",
       "      <th>precipitation</th>\n",
       "      <th>hours_sunlight</th>\n",
       "      <th>avg_temperature_missing</th>\n",
       "      <th>high_temperature_missing</th>\n",
       "      <th>low_temperature_missing</th>\n",
       "      <th>precipitation_missing</th>\n",
       "      <th>hours_sunlight_missing</th>\n",
       "      <th>extreme_value</th>\n",
       "      <th>visitors_recode</th>\n",
       "    </tr>\n",
       "  </thead>\n",
       "  <tbody>\n",
       "    <tr>\n",
       "      <th>0</th>\n",
       "      <td>air_00a91d42b08b08d9</td>\n",
       "      <td>2016-07-01</td>\n",
       "      <td>35</td>\n",
       "      <td>Italian/French</td>\n",
       "      <td>Tōkyō-to Chiyoda-ku Kudanminami</td>\n",
       "      <td>35.694003</td>\n",
       "      <td>139.753595</td>\n",
       "      <td>Friday</td>\n",
       "      <td>0</td>\n",
       "      <td>tokyo__tokyo-kana__tonokyo</td>\n",
       "      <td>...</td>\n",
       "      <td>22.0</td>\n",
       "      <td>0.0</td>\n",
       "      <td>4.4</td>\n",
       "      <td>False</td>\n",
       "      <td>False</td>\n",
       "      <td>False</td>\n",
       "      <td>True</td>\n",
       "      <td>False</td>\n",
       "      <td>74.297411</td>\n",
       "      <td>35.0</td>\n",
       "    </tr>\n",
       "    <tr>\n",
       "      <th>1</th>\n",
       "      <td>air_00a91d42b08b08d9</td>\n",
       "      <td>2016-07-02</td>\n",
       "      <td>9</td>\n",
       "      <td>Italian/French</td>\n",
       "      <td>Tōkyō-to Chiyoda-ku Kudanminami</td>\n",
       "      <td>35.694003</td>\n",
       "      <td>139.753595</td>\n",
       "      <td>Saturday</td>\n",
       "      <td>0</td>\n",
       "      <td>tokyo__tokyo-kana__tonokyo</td>\n",
       "      <td>...</td>\n",
       "      <td>23.4</td>\n",
       "      <td>0.0</td>\n",
       "      <td>6.9</td>\n",
       "      <td>False</td>\n",
       "      <td>False</td>\n",
       "      <td>False</td>\n",
       "      <td>False</td>\n",
       "      <td>False</td>\n",
       "      <td>74.297411</td>\n",
       "      <td>9.0</td>\n",
       "    </tr>\n",
       "    <tr>\n",
       "      <th>2</th>\n",
       "      <td>air_00a91d42b08b08d9</td>\n",
       "      <td>2016-07-03</td>\n",
       "      <td>0</td>\n",
       "      <td>Italian/French</td>\n",
       "      <td>Tōkyō-to Chiyoda-ku Kudanminami</td>\n",
       "      <td>35.694003</td>\n",
       "      <td>139.753595</td>\n",
       "      <td>Sunday</td>\n",
       "      <td>0</td>\n",
       "      <td>tokyo__tokyo-kana__tonokyo</td>\n",
       "      <td>...</td>\n",
       "      <td>24.6</td>\n",
       "      <td>0.0</td>\n",
       "      <td>7.6</td>\n",
       "      <td>False</td>\n",
       "      <td>False</td>\n",
       "      <td>False</td>\n",
       "      <td>True</td>\n",
       "      <td>False</td>\n",
       "      <td>74.297411</td>\n",
       "      <td>0.0</td>\n",
       "    </tr>\n",
       "    <tr>\n",
       "      <th>3</th>\n",
       "      <td>air_00a91d42b08b08d9</td>\n",
       "      <td>2016-07-04</td>\n",
       "      <td>20</td>\n",
       "      <td>Italian/French</td>\n",
       "      <td>Tōkyō-to Chiyoda-ku Kudanminami</td>\n",
       "      <td>35.694003</td>\n",
       "      <td>139.753595</td>\n",
       "      <td>Monday</td>\n",
       "      <td>0</td>\n",
       "      <td>tokyo__tokyo-kana__tonokyo</td>\n",
       "      <td>...</td>\n",
       "      <td>23.6</td>\n",
       "      <td>1.5</td>\n",
       "      <td>7.1</td>\n",
       "      <td>False</td>\n",
       "      <td>False</td>\n",
       "      <td>False</td>\n",
       "      <td>False</td>\n",
       "      <td>False</td>\n",
       "      <td>74.297411</td>\n",
       "      <td>20.0</td>\n",
       "    </tr>\n",
       "    <tr>\n",
       "      <th>4</th>\n",
       "      <td>air_00a91d42b08b08d9</td>\n",
       "      <td>2016-07-05</td>\n",
       "      <td>25</td>\n",
       "      <td>Italian/French</td>\n",
       "      <td>Tōkyō-to Chiyoda-ku Kudanminami</td>\n",
       "      <td>35.694003</td>\n",
       "      <td>139.753595</td>\n",
       "      <td>Tuesday</td>\n",
       "      <td>0</td>\n",
       "      <td>tokyo__tokyo-kana__tonokyo</td>\n",
       "      <td>...</td>\n",
       "      <td>20.2</td>\n",
       "      <td>0.0</td>\n",
       "      <td>0.0</td>\n",
       "      <td>False</td>\n",
       "      <td>False</td>\n",
       "      <td>False</td>\n",
       "      <td>False</td>\n",
       "      <td>False</td>\n",
       "      <td>74.297411</td>\n",
       "      <td>25.0</td>\n",
       "    </tr>\n",
       "  </tbody>\n",
       "</table>\n",
       "<p>5 rows × 22 columns</p>\n",
       "</div>"
      ],
      "text/plain": [
       "           air_store_id  visit_date  visitors  air_genre_name  \\\n",
       "0  air_00a91d42b08b08d9  2016-07-01        35  Italian/French   \n",
       "1  air_00a91d42b08b08d9  2016-07-02         9  Italian/French   \n",
       "2  air_00a91d42b08b08d9  2016-07-03         0  Italian/French   \n",
       "3  air_00a91d42b08b08d9  2016-07-04        20  Italian/French   \n",
       "4  air_00a91d42b08b08d9  2016-07-05        25  Italian/French   \n",
       "\n",
       "                     air_area_name   latitude   longitude day_of_week  \\\n",
       "0  Tōkyō-to Chiyoda-ku Kudanminami  35.694003  139.753595      Friday   \n",
       "1  Tōkyō-to Chiyoda-ku Kudanminami  35.694003  139.753595    Saturday   \n",
       "2  Tōkyō-to Chiyoda-ku Kudanminami  35.694003  139.753595      Sunday   \n",
       "3  Tōkyō-to Chiyoda-ku Kudanminami  35.694003  139.753595      Monday   \n",
       "4  Tōkyō-to Chiyoda-ku Kudanminami  35.694003  139.753595     Tuesday   \n",
       "\n",
       "   holiday_flg                  station_id       ...         low_temperature  \\\n",
       "0            0  tokyo__tokyo-kana__tonokyo       ...                    22.0   \n",
       "1            0  tokyo__tokyo-kana__tonokyo       ...                    23.4   \n",
       "2            0  tokyo__tokyo-kana__tonokyo       ...                    24.6   \n",
       "3            0  tokyo__tokyo-kana__tonokyo       ...                    23.6   \n",
       "4            0  tokyo__tokyo-kana__tonokyo       ...                    20.2   \n",
       "\n",
       "   precipitation  hours_sunlight  avg_temperature_missing  \\\n",
       "0            0.0             4.4                    False   \n",
       "1            0.0             6.9                    False   \n",
       "2            0.0             7.6                    False   \n",
       "3            1.5             7.1                    False   \n",
       "4            0.0             0.0                    False   \n",
       "\n",
       "   high_temperature_missing  low_temperature_missing  precipitation_missing  \\\n",
       "0                     False                    False                   True   \n",
       "1                     False                    False                  False   \n",
       "2                     False                    False                   True   \n",
       "3                     False                    False                  False   \n",
       "4                     False                    False                  False   \n",
       "\n",
       "   hours_sunlight_missing  extreme_value  visitors_recode  \n",
       "0                   False      74.297411             35.0  \n",
       "1                   False      74.297411              9.0  \n",
       "2                   False      74.297411              0.0  \n",
       "3                   False      74.297411             20.0  \n",
       "4                   False      74.297411             25.0  \n",
       "\n",
       "[5 rows x 22 columns]"
      ]
     },
     "execution_count": 315,
     "metadata": {},
     "output_type": "execute_result"
    }
   ],
   "source": [
    "#Begin by reading in data\n",
    "\n",
    "df = pd.read_csv('C:/Users/robva/Dropbox (Personal)/Springboard Data Science Course/Capstone Project 1/EDA/file_for_analysis.csv')\n",
    "df = df.drop('Unnamed: 0', axis=1)\n",
    "df.head()"
   ]
  },
  {
   "cell_type": "markdown",
   "metadata": {},
   "source": [
    "# How many observations are there?"
   ]
  },
  {
   "cell_type": "code",
   "execution_count": 316,
   "metadata": {},
   "outputs": [
    {
     "name": "stdout",
     "output_type": "stream",
     "text": [
      "There are 296279 unique observations.\n"
     ]
    }
   ],
   "source": [
    "n = df.air_store_id.count()\n",
    "print(\"There are\", n, \"unique observations.\")"
   ]
  },
  {
   "cell_type": "markdown",
   "metadata": {},
   "source": [
    "# What dates do the dataset cover?"
   ]
  },
  {
   "cell_type": "code",
   "execution_count": 317,
   "metadata": {},
   "outputs": [
    {
     "name": "stdout",
     "output_type": "stream",
     "text": [
      "The data include observations for every day between Friday , 2016-01-01 and Saturday , 2017-04-22 .\n"
     ]
    }
   ],
   "source": [
    "df = df.sort_values(by = 'visit_date', ascending = True)\n",
    "beginning = df.visit_date.min()\n",
    "first_day = df.iloc[0,7]\n",
    "last_day = df.iloc[-1,7]\n",
    "end = df.visit_date.max()\n",
    "print(\"The data include observations for every day between\", first_day,\",\",beginning, \"and\",last_day,\",\", end,\".\")"
   ]
  },
  {
   "cell_type": "markdown",
   "metadata": {},
   "source": [
    "# How many restaurants are included in the dataset?"
   ]
  },
  {
   "cell_type": "code",
   "execution_count": 318,
   "metadata": {},
   "outputs": [
    {
     "name": "stdout",
     "output_type": "stream",
     "text": [
      "There are 829 restaurants in the dataset.\n"
     ]
    }
   ],
   "source": [
    "n_restaurant = len(df.groupby('air_store_id'))\n",
    "print(\"There are\",n_restaurant,\"restaurants in the dataset.\")"
   ]
  },
  {
   "cell_type": "markdown",
   "metadata": {},
   "source": [
    "# How many stores are in each geographic region?\n"
   ]
  },
  {
   "cell_type": "code",
   "execution_count": 319,
   "metadata": {},
   "outputs": [
    {
     "data": {
      "text/html": [
       "<div>\n",
       "<style scoped>\n",
       "    .dataframe tbody tr th:only-of-type {\n",
       "        vertical-align: middle;\n",
       "    }\n",
       "\n",
       "    .dataframe tbody tr th {\n",
       "        vertical-align: top;\n",
       "    }\n",
       "\n",
       "    .dataframe thead th {\n",
       "        text-align: right;\n",
       "    }\n",
       "</style>\n",
       "<table border=\"1\" class=\"dataframe\">\n",
       "  <thead>\n",
       "    <tr style=\"text-align: right;\">\n",
       "      <th></th>\n",
       "      <th>air_store_id</th>\n",
       "    </tr>\n",
       "    <tr>\n",
       "      <th>air_area_name</th>\n",
       "      <th></th>\n",
       "    </tr>\n",
       "  </thead>\n",
       "  <tbody>\n",
       "    <tr>\n",
       "      <th>Fukuoka-ken Fukuoka-shi Daimyō</th>\n",
       "      <td>64</td>\n",
       "    </tr>\n",
       "    <tr>\n",
       "      <th>Tōkyō-to Shibuya-ku Shibuya</th>\n",
       "      <td>58</td>\n",
       "    </tr>\n",
       "    <tr>\n",
       "      <th>Tōkyō-to Minato-ku Shibakōen</th>\n",
       "      <td>51</td>\n",
       "    </tr>\n",
       "    <tr>\n",
       "      <th>Tōkyō-to Shinjuku-ku Kabukichō</th>\n",
       "      <td>39</td>\n",
       "    </tr>\n",
       "    <tr>\n",
       "      <th>Tōkyō-to Setagaya-ku Setagaya</th>\n",
       "      <td>30</td>\n",
       "    </tr>\n",
       "    <tr>\n",
       "      <th>Tōkyō-to Chūō-ku Tsukiji</th>\n",
       "      <td>29</td>\n",
       "    </tr>\n",
       "    <tr>\n",
       "      <th>Ōsaka-fu Ōsaka-shi Ōgimachi</th>\n",
       "      <td>25</td>\n",
       "    </tr>\n",
       "    <tr>\n",
       "      <th>Hiroshima-ken Hiroshima-shi Kokutaijimachi</th>\n",
       "      <td>23</td>\n",
       "    </tr>\n",
       "    <tr>\n",
       "      <th>Tōkyō-to Meguro-ku Kamimeguro</th>\n",
       "      <td>22</td>\n",
       "    </tr>\n",
       "    <tr>\n",
       "      <th>Hokkaidō Sapporo-shi Minami 3 Jōnishi</th>\n",
       "      <td>21</td>\n",
       "    </tr>\n",
       "  </tbody>\n",
       "</table>\n",
       "</div>"
      ],
      "text/plain": [
       "                                            air_store_id\n",
       "air_area_name                                           \n",
       "Fukuoka-ken Fukuoka-shi Daimyō                        64\n",
       "Tōkyō-to Shibuya-ku Shibuya                           58\n",
       "Tōkyō-to Minato-ku Shibakōen                          51\n",
       "Tōkyō-to Shinjuku-ku Kabukichō                        39\n",
       "Tōkyō-to Setagaya-ku Setagaya                         30\n",
       "Tōkyō-to Chūō-ku Tsukiji                              29\n",
       "Ōsaka-fu Ōsaka-shi Ōgimachi                           25\n",
       "Hiroshima-ken Hiroshima-shi Kokutaijimachi            23\n",
       "Tōkyō-to Meguro-ku Kamimeguro                         22\n",
       "Hokkaidō Sapporo-shi Minami 3 Jōnishi                 21"
      ]
     },
     "execution_count": 319,
     "metadata": {},
     "output_type": "execute_result"
    }
   ],
   "source": [
    "stores_by_region = df.drop_duplicates(['air_area_name','air_store_id'], keep='first')\n",
    "stores_by_region = stores_by_region.groupby(by='air_area_name').count()\n",
    "stores_by_region = stores_by_region['air_store_id'].to_frame().sort_values(by = 'air_store_id', ascending=False)\n",
    "pd.set_option('display.max_rows', 103)\n",
    "stores_by_region.head(10)"
   ]
  },
  {
   "cell_type": "markdown",
   "metadata": {},
   "source": [
    "# How many restaurants are in each 'genre'?"
   ]
  },
  {
   "cell_type": "code",
   "execution_count": 320,
   "metadata": {},
   "outputs": [
    {
     "data": {
      "image/png": "[encoded data removed]",
      "text/plain": [
       "<Figure size 432x288 with 1 Axes>"
      ]
     },
     "metadata": {},
     "output_type": "display_data"
    },
    {
     "data": {
      "text/plain": [
       "<Figure size 432x288 with 0 Axes>"
      ]
     },
     "metadata": {},
     "output_type": "display_data"
    }
   ],
   "source": [
    "stores_by_type = df.drop_duplicates(['air_genre_name','air_store_id'], keep='first')\n",
    "stores_by_type = stores_by_type.groupby(by='air_genre_name').count()\n",
    "stores_by_type = stores_by_type['air_store_id'].to_frame().sort_values(by = 'air_store_id', ascending=True)\n",
    "stores_by_type = stores_by_type.rename({'air_store_id':'Count'})\n",
    "stores_by_type.plot(kind='barh')\n",
    "plt.ylabel('Restaurant Type')\n",
    "plt.show()\n",
    "plt.gcf().clear()"
   ]
  },
  {
   "cell_type": "markdown",
   "metadata": {},
   "source": [
    "# What is the distribution of reservations?"
   ]
  },
  {
   "cell_type": "code",
   "execution_count": 321,
   "metadata": {},
   "outputs": [
    {
     "data": {
      "image/png": "[encoded data removed]",
      "text/plain": [
       "<Figure size 432x288 with 1 Axes>"
      ]
     },
     "metadata": {},
     "output_type": "display_data"
    }
   ],
   "source": [
    "plt.hist(df.visitors_recode, bins = 400)\n",
    "plt.ylim(df.visitors_recode.min(),10000)\n",
    "plt.xlabel('Number of Daily Visitors')\n",
    "plt.ylabel('Number of Observations')\n",
    "plt.show()"
   ]
  },
  {
   "cell_type": "code",
   "execution_count": 322,
   "metadata": {},
   "outputs": [
    {
     "data": {
      "text/plain": [
       "(14.0, count    296279.000000\n",
       " mean         17.778167\n",
       " std          16.607249\n",
       " min           0.000000\n",
       " 25%           5.000000\n",
       " 50%          14.000000\n",
       " 75%          26.000000\n",
       " max         199.855943\n",
       " Name: visitors_recode, dtype: float64)"
      ]
     },
     "execution_count": 322,
     "metadata": {},
     "output_type": "execute_result"
    }
   ],
   "source": [
    "df.visitors_recode.median(), df.visitors_recode.describe()"
   ]
  },
  {
   "cell_type": "markdown",
   "metadata": {},
   "source": [
    "# How many observations have zero visitors?"
   ]
  },
  {
   "cell_type": "code",
   "execution_count": 323,
   "metadata": {},
   "outputs": [
    {
     "name": "stdout",
     "output_type": "stream",
     "text": [
      "There are many observations with 0 visitors ( 44171 ).\n"
     ]
    }
   ],
   "source": [
    "abnormal_freq = df.groupby('visitors_recode').count()\n",
    "abnormal_freq = abnormal_freq.sort_values(by = 'air_store_id', ascending = False)\n",
    "zeros = abnormal_freq.iloc[0,0]\n",
    "print('There are many observations with 0 visitors (', zeros,').')"
   ]
  },
  {
   "cell_type": "markdown",
   "metadata": {},
   "source": [
    "# How do average reservations change over time?"
   ]
  },
  {
   "cell_type": "code",
   "execution_count": 324,
   "metadata": {},
   "outputs": [
    {
     "data": {
      "image/png": "[encoded data removed]",
      "text/plain": [
       "<Figure size 432x288 with 1 Axes>"
      ]
     },
     "metadata": {},
     "output_type": "display_data"
    },
    {
     "name": "stdout",
     "output_type": "stream",
     "text": [
      "There does not appear to be an overall trend. However, there are clearly seasonal trends within each month.\n",
      "There also appears to be some slight within-year trends. I will need to investigate the anomaly in January 2017 further.\n"
     ]
    }
   ],
   "source": [
    "df_dtix = df.set_index(pd.DatetimeIndex(df['visit_date']))\n",
    "daily = df_dtix.resample('D').mean()\n",
    "daily.visitors_recode.plot()\n",
    "plt.xlabel('Average Daily Visitors')\n",
    "plt.show()\n",
    "print('There does not appear to be an overall trend. However, there are clearly seasonal trends within each month.')  \n",
    "print('There also appears to be some slight within-year trends. I will need to investigate the anomaly in January 2017 further.')\n"
   ]
  },
  {
   "cell_type": "code",
   "execution_count": 325,
   "metadata": {},
   "outputs": [
    {
     "data": {
      "image/png": "[encoded data removed]",
      "text/plain": [
       "<Figure size 432x288 with 1 Axes>"
      ]
     },
     "metadata": {},
     "output_type": "display_data"
    },
    {
     "name": "stdout",
     "output_type": "stream",
     "text": [
      "Looking at this trend by week provides a clearer picture of the seasonal variation.\n",
      "It looks as if the number of visitors is highest April through July, December, and January.\n",
      "The months betwen August through November seem to slow down for restaurants.\n"
     ]
    }
   ],
   "source": [
    "df_dtix = df.set_index(pd.DatetimeIndex(df['visit_date']))\n",
    "weekly = df_dtix.resample('W').mean()\n",
    "weekly.visitors_recode.plot()\n",
    "plt.xlabel('Average Weekly Visitors')\n",
    "plt.show()\n",
    "print('Looking at this trend by week provides a clearer picture of the seasonal variation.')\n",
    "print('It looks as if the number of visitors is highest April through July, December, and January.')\n",
    "print('The months betwen August through November seem to slow down for restaurants.')"
   ]
  },
  {
   "cell_type": "markdown",
   "metadata": {},
   "source": [
    "# Does the number of visitors change by day of the week?"
   ]
  },
  {
   "cell_type": "code",
   "execution_count": 326,
   "metadata": {},
   "outputs": [
    {
     "data": {
      "image/png": "[encoded data removed]",
      "text/plain": [
       "<Figure size 432x288 with 1 Axes>"
      ]
     },
     "metadata": {},
     "output_type": "display_data"
    },
    {
     "name": "stdout",
     "output_type": "stream",
     "text": [
      "Monday is the slowest day of the week. The average number of visitors increases steadily throughout the week\n",
      "and drops sharply on Sunday.\n"
     ]
    }
   ],
   "source": [
    "ordered_days = ['Monday', 'Tuesday', 'Wednesday', 'Thursday', 'Friday', 'Saturday', 'Sunday']\n",
    "by_weekday = df.groupby(df.day_of_week).mean().reindex(ordered_days)\n",
    "by_weekday.visitors_recode.plot()\n",
    "plt.xticks(np.arange(7),('Mon', 'Tues', 'Wed', 'Thurs', 'Fri', 'Sat', 'Sun'))\n",
    "plt.title('Average Visitors by Day of the Week')\n",
    "plt.show()\n",
    "print('Monday is the slowest day of the week. The average number of visitors increases steadily throughout the week')\n",
    "print('and drops sharply on Sunday.')"
   ]
  },
  {
   "cell_type": "markdown",
   "metadata": {},
   "source": [
    "# Are the observed differences in average visitors by day of the week statistically significant?"
   ]
  },
  {
   "cell_type": "code",
   "execution_count": 327,
   "metadata": {},
   "outputs": [
    {
     "data": {
      "text/html": [
       "<table class=\"simpletable\">\n",
       "<caption>OLS Regression Results</caption>\n",
       "<tr>\n",
       "  <th>Dep. Variable:</th>       <td>ln_visitors</td>   <th>  R-squared:         </th>  <td>   0.057</td>  \n",
       "</tr>\n",
       "<tr>\n",
       "  <th>Model:</th>                   <td>OLS</td>       <th>  Adj. R-squared:    </th>  <td>   0.057</td>  \n",
       "</tr>\n",
       "<tr>\n",
       "  <th>Method:</th>             <td>Least Squares</td>  <th>  F-statistic:       </th>  <td>   3019.</td>  \n",
       "</tr>\n",
       "<tr>\n",
       "  <th>Date:</th>             <td>Tue, 25 Dec 2018</td> <th>  Prob (F-statistic):</th>   <td>  0.00</td>   \n",
       "</tr>\n",
       "<tr>\n",
       "  <th>Time:</th>                 <td>01:54:10</td>     <th>  Log-Likelihood:    </th> <td>-4.7647e+05</td>\n",
       "</tr>\n",
       "<tr>\n",
       "  <th>No. Observations:</th>      <td>296279</td>      <th>  AIC:               </th>  <td>9.530e+05</td> \n",
       "</tr>\n",
       "<tr>\n",
       "  <th>Df Residuals:</th>          <td>296272</td>      <th>  BIC:               </th>  <td>9.530e+05</td> \n",
       "</tr>\n",
       "<tr>\n",
       "  <th>Df Model:</th>              <td>     6</td>      <th>                     </th>      <td> </td>     \n",
       "</tr>\n",
       "<tr>\n",
       "  <th>Covariance Type:</th>      <td>hac-panel</td>    <th>                     </th>      <td> </td>     \n",
       "</tr>\n",
       "</table>\n",
       "<table class=\"simpletable\">\n",
       "<tr>\n",
       "      <td></td>         <th>coef</th>     <th>std err</th>      <th>t</th>      <th>P>|t|</th>  <th>[0.025</th>    <th>0.975]</th>  \n",
       "</tr>\n",
       "<tr>\n",
       "  <th>Tuesday</th>   <td>    0.3036</td> <td>    0.009</td> <td>   35.065</td> <td> 0.000</td> <td>    0.287</td> <td>    0.321</td>\n",
       "</tr>\n",
       "<tr>\n",
       "  <th>Wednesday</th> <td>    0.4251</td> <td>    0.009</td> <td>   49.380</td> <td> 0.000</td> <td>    0.408</td> <td>    0.442</td>\n",
       "</tr>\n",
       "<tr>\n",
       "  <th>Thursday</th>  <td>    0.4877</td> <td>    0.008</td> <td>   58.091</td> <td> 0.000</td> <td>    0.471</td> <td>    0.504</td>\n",
       "</tr>\n",
       "<tr>\n",
       "  <th>Friday</th>    <td>    0.8020</td> <td>    0.008</td> <td>   99.310</td> <td> 0.000</td> <td>    0.786</td> <td>    0.818</td>\n",
       "</tr>\n",
       "<tr>\n",
       "  <th>Saturday</th>  <td>    0.8381</td> <td>    0.008</td> <td>   99.547</td> <td> 0.000</td> <td>    0.822</td> <td>    0.855</td>\n",
       "</tr>\n",
       "<tr>\n",
       "  <th>Sunday</th>    <td>    0.0969</td> <td>    0.010</td> <td>    9.928</td> <td> 0.000</td> <td>    0.078</td> <td>    0.116</td>\n",
       "</tr>\n",
       "<tr>\n",
       "  <th>const</th>     <td>    1.9604</td> <td>    0.006</td> <td>  303.431</td> <td> 0.000</td> <td>    1.948</td> <td>    1.973</td>\n",
       "</tr>\n",
       "</table>\n",
       "<table class=\"simpletable\">\n",
       "<tr>\n",
       "  <th>Omnibus:</th>       <td>22583.414</td> <th>  Durbin-Watson:     </th> <td>   1.210</td> \n",
       "</tr>\n",
       "<tr>\n",
       "  <th>Prob(Omnibus):</th>  <td> 0.000</td>   <th>  Jarque-Bera (JB):  </th> <td>24909.650</td>\n",
       "</tr>\n",
       "<tr>\n",
       "  <th>Skew:</th>           <td>-0.677</td>   <th>  Prob(JB):          </th> <td>    0.00</td> \n",
       "</tr>\n",
       "<tr>\n",
       "  <th>Kurtosis:</th>       <td> 2.569</td>   <th>  Cond. No.          </th> <td>    7.89</td> \n",
       "</tr>\n",
       "</table><br/><br/>Warnings:<br/>[1] Standard Errors are robust tocluster correlation (hac-panel)"
      ],
      "text/plain": [
       "<class 'statsmodels.iolib.summary.Summary'>\n",
       "\"\"\"\n",
       "                            OLS Regression Results                            \n",
       "==============================================================================\n",
       "Dep. Variable:            ln_visitors   R-squared:                       0.057\n",
       "Model:                            OLS   Adj. R-squared:                  0.057\n",
       "Method:                 Least Squares   F-statistic:                     3019.\n",
       "Date:                Tue, 25 Dec 2018   Prob (F-statistic):               0.00\n",
       "Time:                        01:54:10   Log-Likelihood:            -4.7647e+05\n",
       "No. Observations:              296279   AIC:                         9.530e+05\n",
       "Df Residuals:                  296272   BIC:                         9.530e+05\n",
       "Df Model:                           6                                         \n",
       "Covariance Type:            hac-panel                                         \n",
       "==============================================================================\n",
       "                 coef    std err          t      P>|t|      [0.025      0.975]\n",
       "------------------------------------------------------------------------------\n",
       "Tuesday        0.3036      0.009     35.065      0.000       0.287       0.321\n",
       "Wednesday      0.4251      0.009     49.380      0.000       0.408       0.442\n",
       "Thursday       0.4877      0.008     58.091      0.000       0.471       0.504\n",
       "Friday         0.8020      0.008     99.310      0.000       0.786       0.818\n",
       "Saturday       0.8381      0.008     99.547      0.000       0.822       0.855\n",
       "Sunday         0.0969      0.010      9.928      0.000       0.078       0.116\n",
       "const          1.9604      0.006    303.431      0.000       1.948       1.973\n",
       "==============================================================================\n",
       "Omnibus:                    22583.414   Durbin-Watson:                   1.210\n",
       "Prob(Omnibus):                  0.000   Jarque-Bera (JB):            24909.650\n",
       "Skew:                          -0.677   Prob(JB):                         0.00\n",
       "Kurtosis:                       2.569   Cond. No.                         7.89\n",
       "==============================================================================\n",
       "\n",
       "Warnings:\n",
       "[1] Standard Errors are robust tocluster correlation (hac-panel)\n",
       "\"\"\""
      ]
     },
     "execution_count": 327,
     "metadata": {},
     "output_type": "execute_result"
    }
   ],
   "source": [
    "df['ln_visitors'] = df['visitors_recode'] + 1\n",
    "df['ln_visitors'] = np.log(df['ln_visitors'])\n",
    "df = df.sort_values(['air_store_id','visit_date'])\n",
    "df = pd.concat([df, pd.get_dummies(df['day_of_week'])], axis=1)\n",
    "df = sm.add_constant(df, prepend = False)\n",
    "x = df[['Tuesday','Wednesday','Thursday','Friday','Saturday','Sunday',\n",
    "       'const']]\n",
    "y = df['ln_visitors']\n",
    "mod = sm.OLS(y,x)\n",
    "fit = mod.fit()\n",
    "fit = fit.get_robustcov_results(cov_type='hac-panel', groups = df['air_store_id'], time = df['visit_date'], maxlags=0)\n",
    "fit.summary()"
   ]
  },
  {
   "cell_type": "markdown",
   "metadata": {},
   "source": [
    "# Are the number of daily visitors and daily temperature related?"
   ]
  },
  {
   "cell_type": "code",
   "execution_count": 328,
   "metadata": {},
   "outputs": [
    {
     "data": {
      "image/png": "[encoded data removed]",
      "text/plain": [
       "<Figure size 432x288 with 1 Axes>"
      ]
     },
     "metadata": {},
     "output_type": "display_data"
    }
   ],
   "source": [
    "plt.scatter(df.avg_temperature, df.visitors_recode)\n",
    "plt.xlabel('Daily Average Temperature')\n",
    "plt.ylabel('Daily Visitors')\n",
    "plt.show()"
   ]
  },
  {
   "cell_type": "code",
   "execution_count": 341,
   "metadata": {},
   "outputs": [
    {
     "name": "stdout",
     "output_type": "stream",
     "text": [
      "                            OLS Regression Results                            \n",
      "==============================================================================\n",
      "Dep. Variable:            ln_visitors   R-squared:                       0.000\n",
      "Model:                            OLS   Adj. R-squared:                  0.000\n",
      "Method:                 Least Squares   F-statistic:                     1.940\n",
      "Date:                Tue, 25 Dec 2018   Prob (F-statistic):              0.164\n",
      "Time:                        20:43:36   Log-Likelihood:            -4.8521e+05\n",
      "No. Observations:              296279   AIC:                         9.704e+05\n",
      "Df Residuals:                  296277   BIC:                         9.704e+05\n",
      "Df Model:                           1                                         \n",
      "Covariance Type:            hac-panel                                         \n",
      "===================================================================================\n",
      "                      coef    std err          t      P>|t|      [0.025      0.975]\n",
      "-----------------------------------------------------------------------------------\n",
      "avg_temperature     0.0004      0.000      1.393      0.164      -0.000       0.001\n",
      "const               2.3787      0.005    519.155      0.000       2.370       2.388\n",
      "==============================================================================\n",
      "Omnibus:                    27575.062   Durbin-Watson:                   1.210\n",
      "Prob(Omnibus):                  0.000   Jarque-Bera (JB):            31441.775\n",
      "Skew:                          -0.763   Prob(JB):                         0.00\n",
      "Kurtosis:                       2.536   Cond. No.                         34.0\n",
      "==============================================================================\n",
      "\n",
      "Warnings:\n",
      "[1] Standard Errors are robust tocluster correlation (hac-panel)\n",
      "The p-value of the coefficient is not statistically significant.\n"
     ]
    }
   ],
   "source": [
    "df = df.sort_values(['air_store_id','visit_date'])\n",
    "xa = df[['avg_temperature','const']]\n",
    "ya = df['ln_visitors']\n",
    "moda = sm.OLS(ya,xa)\n",
    "fita = moda.fit()\n",
    "fita = fita.get_robustcov_results(cov_type='hac-panel', groups = df['air_store_id'], time = df['visit_date'], maxlags=0)\n",
    "print(fita.summary())\n",
    "print('The p-value of the coefficient is not statistically significant.')"
   ]
  },
  {
   "cell_type": "markdown",
   "metadata": {},
   "source": [
    "# Are the number of daily visitors and daily precipitation related?"
   ]
  },
  {
   "cell_type": "code",
   "execution_count": 333,
   "metadata": {},
   "outputs": [
    {
     "data": {
      "image/png": "[encoded data removed]",
      "text/plain": [
       "<Figure size 432x288 with 1 Axes>"
      ]
     },
     "metadata": {},
     "output_type": "display_data"
    }
   ],
   "source": [
    "plt.scatter(df.precipitation,df.visitors_recode)\n",
    "plt.xlabel('Daily Precipitation')\n",
    "plt.ylabel('Daily Visitors')\n",
    "plt.show()"
   ]
  },
  {
   "cell_type": "code",
   "execution_count": 338,
   "metadata": {},
   "outputs": [
    {
     "name": "stdout",
     "output_type": "stream",
     "text": [
      "                            OLS Regression Results                            \n",
      "==============================================================================\n",
      "Dep. Variable:            ln_visitors   R-squared:                       0.001\n",
      "Model:                            OLS   Adj. R-squared:                  0.001\n",
      "Method:                 Least Squares   F-statistic:                     303.3\n",
      "Date:                Tue, 25 Dec 2018   Prob (F-statistic):           4.09e-58\n",
      "Time:                        01:59:10   Log-Likelihood:            -4.8506e+05\n",
      "No. Observations:              296279   AIC:                         9.701e+05\n",
      "Df Residuals:                  296277   BIC:                         9.702e+05\n",
      "Df Model:                           1                                         \n",
      "Covariance Type:            hac-panel                                         \n",
      "=================================================================================\n",
      "                    coef    std err          t      P>|t|      [0.025      0.975]\n",
      "---------------------------------------------------------------------------------\n",
      "precipitation    -0.0030      0.000    -17.415      0.000      -0.003      -0.003\n",
      "const             2.3981      0.002    987.039      0.000       2.393       2.403\n",
      "==============================================================================\n",
      "Omnibus:                    27555.799   Durbin-Watson:                   1.210\n",
      "Prob(Omnibus):                  0.000   Jarque-Bera (JB):            31540.988\n",
      "Skew:                          -0.765   Prob(JB):                         0.00\n",
      "Kurtosis:                       2.540   Cond. No.                         14.7\n",
      "==============================================================================\n",
      "\n",
      "Warnings:\n",
      "[1] Standard Errors are robust tocluster correlation (hac-panel)\n",
      "Although the p-value of the coefficient is statistically significant, the extremely small R-squared and coefficient estimates suggest that the model is of little practical value.\n"
     ]
    }
   ],
   "source": [
    "df = df.sort_values(['air_store_id','visit_date'])\n",
    "xb = df[['precipitation','const']]\n",
    "yb = df['ln_visitors']\n",
    "modb = sm.OLS(yb,xb)\n",
    "fitb = modb.fit()\n",
    "fitb = fitb.get_robustcov_results(cov_type='hac-panel', groups = df['air_store_id'], time = df['visit_date'], maxlags=0)\n",
    "print(fitb.summary())\n",
    "print('Although the p-value of the coefficient is statistically significant, the extremely small R-squared and coefficient estimates suggest that the model is of little practical value.')"
   ]
  },
  {
   "cell_type": "markdown",
   "metadata": {},
   "source": [
    "# Are the number of daily visitors and average daily hours of sunlight related?"
   ]
  },
  {
   "cell_type": "code",
   "execution_count": 339,
   "metadata": {},
   "outputs": [
    {
     "data": {
      "image/png": "[encoded data removed]",
      "text/plain": [
       "<Figure size 432x288 with 1 Axes>"
      ]
     },
     "metadata": {},
     "output_type": "display_data"
    },
    {
     "name": "stdout",
     "output_type": "stream",
     "text": [
      "There does not appear to be a relationship between number of visitors and hours of sunlight.\n"
     ]
    }
   ],
   "source": [
    "plt.scatter(df.hours_sunlight,df.visitors_recode)\n",
    "plt.xlabel('Daily Hours of Sunlight')\n",
    "plt.ylabel('Daily Visitors')\n",
    "plt.show()\n",
    "print('There does not appear to be a relationship between number of visitors and hours of sunlight.')"
   ]
  },
  {
   "cell_type": "code",
   "execution_count": 340,
   "metadata": {},
   "outputs": [
    {
     "name": "stdout",
     "output_type": "stream",
     "text": [
      "                            OLS Regression Results                            \n",
      "==============================================================================\n",
      "Dep. Variable:            ln_visitors   R-squared:                       0.001\n",
      "Model:                            OLS   Adj. R-squared:                  0.001\n",
      "Method:                 Least Squares   F-statistic:                     152.8\n",
      "Date:                Tue, 25 Dec 2018   Prob (F-statistic):           2.48e-32\n",
      "Time:                        01:59:18   Log-Likelihood:            -4.8514e+05\n",
      "No. Observations:              296279   AIC:                         9.703e+05\n",
      "Df Residuals:                  296277   BIC:                         9.703e+05\n",
      "Df Model:                           1                                         \n",
      "Covariance Type:            hac-panel                                         \n",
      "==================================================================================\n",
      "                     coef    std err          t      P>|t|      [0.025      0.975]\n",
      "----------------------------------------------------------------------------------\n",
      "hours_sunlight     0.0072      0.001     12.361      0.000       0.006       0.008\n",
      "const              2.3460      0.004    615.847      0.000       2.339       2.354\n",
      "==============================================================================\n",
      "Omnibus:                    27587.809   Durbin-Watson:                   1.210\n",
      "Prob(Omnibus):                  0.000   Jarque-Bera (JB):            31540.751\n",
      "Skew:                          -0.765   Prob(JB):                         0.00\n",
      "Kurtosis:                       2.539   Cond. No.                         11.3\n",
      "==============================================================================\n",
      "\n",
      "Warnings:\n",
      "[1] Standard Errors are robust tocluster correlation (hac-panel)\n",
      "Although the p-value of the coefficient is statistically significant, the extremely small R-squared and coefficient estimates suggest that the model is of little practical value.\n"
     ]
    }
   ],
   "source": [
    "df = df.sort_values(['air_store_id','visit_date'])\n",
    "xc = df[['hours_sunlight','const']]\n",
    "yc = df['ln_visitors']\n",
    "modc = sm.OLS(yc,xc)\n",
    "fitc = modc.fit()\n",
    "fitc = fitc.get_robustcov_results(cov_type='hac-panel', groups = df['air_store_id'], time = df['visit_date'], maxlags=0)\n",
    "print(fitc.summary())\n",
    "print('Although the p-value of the coefficient is statistically significant, the extremely small R-squared and coefficient estimates suggest that the model is of little practical value.')"
   ]
  }
 ],
 "metadata": {
  "kernelspec": {
   "display_name": "Python 3",
   "language": "python",
   "name": "python3"
  },
  "language_info": {
   "codemirror_mode": {
    "name": "ipython",
    "version": 3
   },
   "file_extension": ".py",
   "mimetype": "text/x-python",
   "name": "python",
   "nbconvert_exporter": "python",
   "pygments_lexer": "ipython3",
   "version": "3.6.5"
  }
 },
 "nbformat": 4,
 "nbformat_minor": 2
}
